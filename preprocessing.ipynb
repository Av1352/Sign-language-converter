{
 "cells": [
  {
   "cell_type": "code",
   "execution_count": 2,
   "metadata": {},
   "outputs": [],
   "source": [
    "import os\n",
    "import numpy as np\n",
    "import matplotlib.pyplot as plt\n",
    "import matplotlib.image as mpimg\n",
    "import cv2\n",
    "import imageio\n"
   ]
  },
  {
   "cell_type": "code",
   "execution_count": 5,
   "metadata": {},
   "outputs": [],
   "source": [
    "# Set path to dataset images\n",
    "\n",
    "image_path='images/'"
   ]
  },
  {
   "cell_type": "code",
   "execution_count": 6,
   "metadata": {},
   "outputs": [],
   "source": [
    "# Load folder into array-image_files and return the array\n",
    "\n",
    "def loadImages(path, label):\n",
    "  image_files = sorted([os.path.join(path, label, file)\n",
    "                        for file in os.listdir(path+str('/')+label) if file.endswith('.jpg')\n",
    "                        ])\n",
    "  return image_files\n"
   ]
  },
  {
   "cell_type": "code",
   "execution_count": 7,
   "metadata": {},
   "outputs": [],
   "source": [
    "# Function to display images\n",
    "\n",
    "def display(img, title=\"Original\"):\n",
    "    plt.imshow(img, cmap='gray'), plt.title(title)\n",
    "    plt.show()\n"
   ]
  },
  {
   "cell_type": "code",
   "execution_count": 8,
   "metadata": {},
   "outputs": [],
   "source": [
    "# Preprocessing all the images to extract ROI i.e. hands\n",
    "\n",
    "def preprocess_images(data,label):\n",
    "    count=0\n",
    "    for image in data:\n",
    "        \n",
    "        #reading image\n",
    "        img=imageio.imread(image)\n",
    "        \n",
    "        #Converting image to grayscale\n",
    "        gray_img=cv2.cvtColor(img,cv2.COLOR_RGB2GRAY)\n",
    "        \n",
    "        #Converting image to HSV format\n",
    "        hsv_img=cv2.cvtColor(img,cv2.COLOR_RGB2HSV)\n",
    "        \n",
    "        #Defining boundary level for skin color in HSV\n",
    "        skin_color_lower= np.array([0,40,30],np.uint8)\n",
    "        skin_color_upper= np.array([43,255,255],np.uint8)\n",
    "        \n",
    "        #Producing mask\n",
    "        skin_mask=cv2.inRange(hsv_img,skin_color_lower,skin_color_upper)\n",
    "        \n",
    "        #Removing Noise from mask\n",
    "        skin_mask=cv2.medianBlur(skin_mask,5)\n",
    "        skin_mask=cv2.addWeighted(skin_mask,0.5,skin_mask,0.5,0.0)\n",
    "        \n",
    "        #Applying Morphological operations\n",
    "        kernel=np.ones((5,5),np.uint8)\n",
    "        skin_mask=cv2.morphologyEx(skin_mask,cv2.MORPH_CLOSE,kernel)\n",
    "        \n",
    "        #Extracting hand by applying mask\n",
    "        hand=cv2.bitwise_and(gray_img,gray_img,mask=skin_mask)\n",
    "        \n",
    "        #Get edges by Canny edge detection\n",
    "        canny=cv2.Canny(hand,60,60)\n",
    "        \n",
    "        #save preprocessed images\n",
    "        path='ISL Recognition/Preprocessed Images/'\n",
    "        final_path=path+label+str('/')+str(count)+str('.png')\n",
    "        cv2.imwrite(final_path,canny)\n",
    "        count+=1"
   ]
  },
  {
   "cell_type": "code",
   "execution_count": 9,
   "metadata": {},
   "outputs": [
    {
     "name": "stderr",
     "output_type": "stream",
     "text": [
      "C:\\Users\\anjuv\\AppData\\Local\\Temp\\ipykernel_8568\\2270787798.py:8: DeprecationWarning: Starting with ImageIO v3 the behavior of this function will switch to that of iio.v3.imread. To keep the current behavior (and make this warning disappear) use `import imageio.v2 as imageio` or call `imageio.v2.imread` directly.\n",
      "  img=imageio.imread(image)\n"
     ]
    }
   ],
   "source": [
    "# Getting path to all images and preprocessing the images\n",
    "\n",
    "signs=['1','2','3','4','5','6','7','8','9','A','B','C','D','E','F','G','H','I','J','K','L','M','N','O','P','Q','R','S','T','U','V','W','X','Y','Z']\n",
    "for label in signs:\n",
    "    images=[]\n",
    "    images=loadImages(image_path,label)\n",
    "    preprocess_images(images,label)"
   ]
  }
 ],
 "metadata": {
  "kernelspec": {
   "display_name": "Python 3",
   "language": "python",
   "name": "python3"
  },
  "language_info": {
   "codemirror_mode": {
    "name": "ipython",
    "version": 3
   },
   "file_extension": ".py",
   "mimetype": "text/x-python",
   "name": "python",
   "nbconvert_exporter": "python",
   "pygments_lexer": "ipython3",
   "version": "3.10.2"
  },
  "orig_nbformat": 4
 },
 "nbformat": 4,
 "nbformat_minor": 2
}
