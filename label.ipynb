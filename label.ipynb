{
 "cells": [
  {
   "cell_type": "code",
   "execution_count": 5,
   "metadata": {},
   "outputs": [],
   "source": [
    "SCRIPTS = 'scripts'\n",
    "ANNOTATIONS = 'annotations'"
   ]
  },
  {
   "cell_type": "code",
   "execution_count": 6,
   "metadata": {},
   "outputs": [],
   "source": [
    "labels = [{'name' : '1', 'id': 1},\n",
    "          {'name' : '2', 'id': 2},\n",
    "          {'name' : '3', 'id': 3},\n",
    "          {'name' : '4', 'id': 4},\n",
    "          {'name' : '5', 'id': 5},\n",
    "          {'name' : '6', 'id': 6},\n",
    "          {'name' : '7', 'id': 7},\n",
    "          {'name' : '8', 'id': 8},\n",
    "          {'name' : '9', 'id': 9},\n",
    "          {'name' : 'A', 'id': 10},\n",
    "          {'name' : 'B', 'id': 11},\n",
    "          {'name' : 'C', 'id': 12},\n",
    "          {'name' : 'D', 'id': 13},\n",
    "          {'name' : 'E', 'id': 14},\n",
    "          {'name' : 'F', 'id': 15},\n",
    "          {'name' : 'G', 'id': 16},\n",
    "          {'name' : 'H', 'id': 17},\n",
    "          {'name' : 'HELLO', 'id': 18},\n",
    "          {'name' : 'I', 'id': 19},\n",
    "          {'name' : 'J', 'id': 20},\n",
    "          {'name' : 'K', 'id': 21},\n",
    "          {'name' : 'L', 'id': 22},\n",
    "          {'name' : 'M', 'id': 23},\n",
    "          {'name' : 'N', 'id': 24},\n",
    "          {'name' : 'NO', 'id': 25},\n",
    "          {'name' : 'O', 'id': 26},\n",
    "          {'name' : 'P', 'id': 27},\n",
    "          {'name' : 'PLEASE', 'id': 28},\n",
    "          {'name' : 'Q', 'id': 29},\n",
    "          {'name' : 'R', 'id': 30},\n",
    "          {'name' : 'S', 'id': 31},\n",
    "          {'name' : 'SORRY', 'id': 32},\n",
    "          {'name' : 'T', 'id': 33},\n",
    "          {'name' : 'THANKS', 'id': 34},\n",
    "          {'name' : 'U', 'id': 35},\n",
    "          {'name' : 'V', 'id': 36},\n",
    "          {'name' : 'W', 'id': 37},\n",
    "          {'name' : 'X', 'id': 38},\n",
    "          {'name' : 'Y', 'id': 39},\n",
    "          {'name' : 'YES', 'id': 40},\n",
    "          {'name' : 'Z', 'id': 41},\n",
    "          ]\n",
    "with open(ANNOTATIONS + 'label_map.pbtxt', 'w') as f:\n",
    "    for label in labels:\n",
    "        f.write('item {\\n')\n",
    "        f.write('\\tname: {}\\'\\n'.format(label['name']))\n",
    "        f.write('\\tid:{}\\n'.format(label['id']))\n",
    "        f.write('}\\n')"
   ]
  },
  {
   "cell_type": "code",
   "execution_count": 10,
   "metadata": {},
   "outputs": [
    {
     "name": "stderr",
     "output_type": "stream",
     "text": [
      "usage: generate_tfrecord.py [-h] [-x XML_DIR] [-l LABELS_PATH]\n",
      "                            [-o OUTPUT_PATH] [-i IMAGE_DIR] [-c CSV_PATH]\n",
      "generate_tfrecord.py: error: unrecognized arguments: - x data/train - l annotations/label_map.pbtxt - o annotations/train.record\n",
      "Traceback (most recent call last):\n",
      "  File \"c:\\Users\\anjuv\\Documents\\GitHub\\Sign-language-converter\\scripts\\generate_tfrecord.py\", line 61, in <module>\n",
      "    label_map = label_map_util.load_labelmap(args.labels_path)\n",
      "  File \"c:\\Users\\anjuv\\AppData\\Local\\Programs\\Python\\Python310\\lib\\site-packages\\object_detection\\utils\\label_map_util.py\", line 132, in load_labelmap\n",
      "    with tf.gfile.GFile(path, 'r') as fid:\n",
      "AttributeError: module 'tensorflow' has no attribute 'gfile'. Did you mean: 'fill'?\n"
     ]
    }
   ],
   "source": [
    "!python {'scripts/generate_tfrecord.py'} - x {'data/train'} - l {ANNOTATIONS + '/label_map.pbtxt'} - o {ANNOTATIONS + '/train.record'}\n",
    "!python {'scripts/generate_tfrecord.py'} -x {'data/test'} -l {ANNOTATIONS + '/label_map.pbtxt'} -o {ANNOTATIONS + '/test.record'}"
   ]
  },
  {
   "cell_type": "code",
   "execution_count": null,
   "metadata": {},
   "outputs": [],
   "source": [
    "!cd Tensorflow && git clone https://github.com/tensorflow/model"
   ]
  }
 ],
 "metadata": {
  "kernelspec": {
   "display_name": "Python 3",
   "language": "python",
   "name": "python3"
  },
  "language_info": {
   "codemirror_mode": {
    "name": "ipython",
    "version": 3
   },
   "file_extension": ".py",
   "mimetype": "text/x-python",
   "name": "python",
   "nbconvert_exporter": "python",
   "pygments_lexer": "ipython3",
   "version": "3.10.2"
  },
  "orig_nbformat": 4
 },
 "nbformat": 4,
 "nbformat_minor": 2
}
