{
 "cells": [
  {
   "cell_type": "code",
   "execution_count": 1,
   "metadata": {},
   "outputs": [],
   "source": [
    "from keras.preprocessing.image import ImageDataGenerator\n",
    "from keras.datasets import mnist\n",
    "from keras.models import Sequential\n",
    "from keras.layers import Conv2D\n",
    "from keras.layers import MaxPooling2D\n",
    "from keras.layers import Dense, Dropout, Flatten\n",
    "import matplotlib.pyplot as plt\n",
    "import os\n",
    "import cv2\n",
    "import numpy as np\n",
    "import pandas as pd\n",
    "import seaborn as sbn\n",
    "from sklearn.preprocessing import LabelEncoder\n",
    "from sklearn.metrics import classification_report, confusion_matrix\n",
    "from keras.utils import to_categorical\n"
   ]
  },
  {
   "cell_type": "code",
   "execution_count": 2,
   "metadata": {},
   "outputs": [],
   "source": [
    "def load_images(folder):\n",
    "  train_data = []\n",
    "  for label in os.listdir(folder):\n",
    "    print(label, \" Started!\")\n",
    "    path = folder+'/'+label\n",
    "    for img in os.listdir(path):\n",
    "      img = cv2.imread(path+'/'+img, cv2.IMREAD_GRAYSCALE)\n",
    "      new_img = cv2.resize(img, (100, 100))\n",
    "      if new_img is not None:\n",
    "        train_data.append([new_img, label])\n",
    "    print(label, \" ended!\")\n",
    "  return train_data\n"
   ]
  },
  {
   "cell_type": "code",
   "execution_count": 3,
   "metadata": {},
   "outputs": [
    {
     "name": "stdout",
     "output_type": "stream",
     "text": [
      "0  Started!\n",
      "0  ended!\n",
      "1  Started!\n",
      "1  ended!\n",
      "2  Started!\n",
      "2  ended!\n",
      "3  Started!\n",
      "3  ended!\n",
      "4  Started!\n",
      "4  ended!\n",
      "5  Started!\n",
      "5  ended!\n",
      "6  Started!\n",
      "6  ended!\n",
      "7  Started!\n",
      "7  ended!\n",
      "8  Started!\n",
      "8  ended!\n",
      "9  Started!\n",
      "9  ended!\n",
      "a  Started!\n",
      "a  ended!\n",
      "b  Started!\n",
      "b  ended!\n",
      "c  Started!\n",
      "c  ended!\n",
      "d  Started!\n",
      "d  ended!\n",
      "e  Started!\n",
      "e  ended!\n",
      "f  Started!\n",
      "f  ended!\n",
      "g  Started!\n",
      "g  ended!\n",
      "h  Started!\n",
      "h  ended!\n",
      "i  Started!\n",
      "i  ended!\n",
      "j  Started!\n",
      "j  ended!\n",
      "k  Started!\n",
      "k  ended!\n",
      "l  Started!\n",
      "l  ended!\n",
      "m  Started!\n",
      "m  ended!\n",
      "n  Started!\n",
      "n  ended!\n",
      "o  Started!\n",
      "o  ended!\n",
      "p  Started!\n",
      "p  ended!\n",
      "q  Started!\n",
      "q  ended!\n",
      "r  Started!\n",
      "r  ended!\n",
      "s  Started!\n",
      "s  ended!\n",
      "t  Started!\n",
      "t  ended!\n",
      "u  Started!\n",
      "u  ended!\n",
      "v  Started!\n",
      "v  ended!\n",
      "w  Started!\n",
      "w  ended!\n",
      "x  Started!\n",
      "x  ended!\n",
      "y  Started!\n",
      "y  ended!\n",
      "z  Started!\n",
      "z  ended!\n",
      "0  Started!\n",
      "0  ended!\n",
      "1  Started!\n",
      "1  ended!\n",
      "2  Started!\n",
      "2  ended!\n",
      "3  Started!\n",
      "3  ended!\n",
      "4  Started!\n",
      "4  ended!\n",
      "5  Started!\n",
      "5  ended!\n",
      "6  Started!\n",
      "6  ended!\n",
      "7  Started!\n",
      "7  ended!\n",
      "8  Started!\n",
      "8  ended!\n",
      "9  Started!\n",
      "9  ended!\n",
      "a  Started!\n",
      "a  ended!\n",
      "b  Started!\n",
      "b  ended!\n",
      "c  Started!\n",
      "c  ended!\n",
      "d  Started!\n",
      "d  ended!\n",
      "e  Started!\n",
      "e  ended!\n",
      "f  Started!\n",
      "f  ended!\n",
      "g  Started!\n",
      "g  ended!\n",
      "h  Started!\n",
      "h  ended!\n",
      "i  Started!\n",
      "i  ended!\n",
      "j  Started!\n",
      "j  ended!\n",
      "k  Started!\n",
      "k  ended!\n",
      "l  Started!\n",
      "l  ended!\n",
      "m  Started!\n",
      "m  ended!\n",
      "n  Started!\n",
      "n  ended!\n",
      "o  Started!\n",
      "o  ended!\n",
      "p  Started!\n",
      "p  ended!\n",
      "q  Started!\n",
      "q  ended!\n",
      "r  Started!\n",
      "r  ended!\n",
      "s  Started!\n",
      "s  ended!\n",
      "t  Started!\n",
      "t  ended!\n",
      "u  Started!\n",
      "u  ended!\n",
      "v  Started!\n",
      "v  ended!\n",
      "w  Started!\n",
      "w  ended!\n",
      "x  Started!\n",
      "x  ended!\n",
      "y  Started!\n",
      "y  ended!\n",
      "z  Started!\n",
      "z  ended!\n"
     ]
    }
   ],
   "source": [
    "train_dir = 'data/train'\n",
    "val_dir = 'data/test'\n",
    "\n",
    "train_data = load_images(train_dir)\n",
    "test_data = load_images(val_dir)\n"
   ]
  },
  {
   "cell_type": "code",
   "execution_count": 4,
   "metadata": {},
   "outputs": [],
   "source": [
    "train_images=[]\n",
    "train_labels=[]\n",
    "test_images=[]\n",
    "test_labels=[]"
   ]
  },
  {
   "cell_type": "code",
   "execution_count": 5,
   "metadata": {},
   "outputs": [],
   "source": [
    "for feature, label in train_data:\n",
    "  train_images.append(feature)\n",
    "  train_labels.append(label)\n",
    "\n",
    "for feature, label in test_data:\n",
    "  test_images.append(feature)\n",
    "  test_labels.append(label)\n"
   ]
  },
  {
   "cell_type": "code",
   "execution_count": 6,
   "metadata": {},
   "outputs": [],
   "source": [
    "train_images=np.array(train_images)\n",
    "test_images=np.array(test_images)"
   ]
  },
  {
   "cell_type": "code",
   "execution_count": 7,
   "metadata": {},
   "outputs": [],
   "source": [
    "train_images=train_images.reshape((-1,100,100,1))\n",
    "test_images=test_images.reshape((-1,100,100,1))"
   ]
  },
  {
   "cell_type": "code",
   "execution_count": 8,
   "metadata": {},
   "outputs": [
    {
     "data": {
      "text/plain": [
       "(28800, 100, 100, 1)"
      ]
     },
     "execution_count": 8,
     "metadata": {},
     "output_type": "execute_result"
    }
   ],
   "source": [
    "train_images.shape\n",
    "# test_images.shape\n"
   ]
  },
  {
   "cell_type": "code",
   "execution_count": 9,
   "metadata": {},
   "outputs": [],
   "source": [
    "train_images= train_images.astype('float32')\n",
    "test_images = test_images.astype('float32')\n",
    "\n",
    "train_images=train_images/255.0\n",
    "test_images=test_images/255.0"
   ]
  },
  {
   "cell_type": "code",
   "execution_count": 10,
   "metadata": {},
   "outputs": [],
   "source": [
    "le = LabelEncoder()\n",
    "le.fit_transform(train_labels)\n",
    "le.fit_transform(test_labels)\n",
    "train_labels_label_encoded = le.transform(train_labels)\n",
    "test_labels_label_encoded = le.transform(test_labels)"
   ]
  },
  {
   "cell_type": "code",
   "execution_count": 11,
   "metadata": {},
   "outputs": [
    {
     "data": {
      "text/plain": [
       "array([ 0,  0,  0, ..., 35, 35, 35])"
      ]
     },
     "execution_count": 11,
     "metadata": {},
     "output_type": "execute_result"
    }
   ],
   "source": [
    "test_labels_label_encoded\n"
   ]
  },
  {
   "cell_type": "code",
   "execution_count": 12,
   "metadata": {},
   "outputs": [],
   "source": [
    "train_labels_one_hot = to_categorical(train_labels_label_encoded)\n",
    "test_labels_one_hot = to_categorical(test_labels_label_encoded)\n"
   ]
  },
  {
   "cell_type": "code",
   "execution_count": 13,
   "metadata": {},
   "outputs": [
    {
     "name": "stdout",
     "output_type": "stream",
     "text": [
      "Original label 0 :  0\n",
      "After conversion to categorical ( one-hot ) :  [1. 0. 0. 0. 0. 0. 0. 0. 0. 0. 0. 0. 0. 0. 0. 0. 0. 0. 0. 0. 0. 0. 0. 0.\n",
      " 0. 0. 0. 0. 0. 0. 0. 0. 0. 0. 0. 0.]\n",
      "(7236, 36)\n"
     ]
    }
   ],
   "source": [
    "print('Original label 0 : ', train_labels[0])\n",
    "print('After conversion to categorical ( one-hot ) : ',\n",
    "      train_labels_one_hot[0])\n",
    "print(test_labels_one_hot.shape)\n"
   ]
  },
  {
   "cell_type": "code",
   "execution_count": 14,
   "metadata": {},
   "outputs": [],
   "source": [
    "input_shape=(100,100,1)\n",
    "n_classes=36"
   ]
  },
  {
   "cell_type": "code",
   "execution_count": 15,
   "metadata": {},
   "outputs": [],
   "source": [
    "def create_model():\n",
    "    model = Sequential()\n",
    "    # The first two layers with 32 filters of window size 3x3\n",
    "    model.add(Conv2D(32, (3, 3), padding='same',\n",
    "              activation='relu', input_shape=input_shape))\n",
    "    model.add(Conv2D(32, (3, 3), activation='relu'))\n",
    "    model.add(MaxPooling2D(pool_size=(2, 2)))\n",
    "    model.add(Dropout(0.25))\n",
    "\n",
    "    model.add(Conv2D(64, (3, 3), padding='same', activation='relu'))\n",
    "    model.add(Conv2D(64, (3, 3), activation='relu'))\n",
    "    model.add(MaxPooling2D(pool_size=(2, 2)))\n",
    "    model.add(Dropout(0.25))\n",
    "\n",
    "    model.add(Conv2D(64, (3, 3), padding='same', activation='relu'))\n",
    "    model.add(Conv2D(64, (3, 3), activation='relu'))\n",
    "    model.add(MaxPooling2D(pool_size=(2, 2)))\n",
    "    model.add(Dropout(0.25))\n",
    "\n",
    "    model.add(Flatten())\n",
    "    model.add(Dense(512, activation='relu'))\n",
    "    model.add(Dropout(0.5))\n",
    "    model.add(Dense(n_classes, activation='softmax'))\n",
    "    return model\n"
   ]
  },
  {
   "cell_type": "code",
   "execution_count": 16,
   "metadata": {},
   "outputs": [],
   "source": [
    "model = create_model()\n",
    "batch_size = 256\n",
    "epochs = 10\n",
    "model.compile(optimizer='adam', loss='categorical_crossentropy',\n",
    "              metrics=['accuracy'])\n"
   ]
  },
  {
   "cell_type": "code",
   "execution_count": 17,
   "metadata": {},
   "outputs": [
    {
     "name": "stdout",
     "output_type": "stream",
     "text": [
      "Epoch 1/10\n",
      "113/113 [==============================] - 1084s 10s/step - loss: 1.1639 - accuracy: 0.6680 - val_loss: 0.0761 - val_accuracy: 0.9808\n",
      "Epoch 2/10\n",
      "113/113 [==============================] - 970s 9s/step - loss: 0.1403 - accuracy: 0.9544 - val_loss: 0.0170 - val_accuracy: 0.9960\n",
      "Epoch 3/10\n",
      "113/113 [==============================] - 1030s 9s/step - loss: 0.0675 - accuracy: 0.9774 - val_loss: 0.0063 - val_accuracy: 0.9982\n",
      "Epoch 4/10\n",
      "113/113 [==============================] - 1043s 9s/step - loss: 0.0498 - accuracy: 0.9843 - val_loss: 0.0052 - val_accuracy: 0.9979\n",
      "Epoch 5/10\n",
      "113/113 [==============================] - 1006s 9s/step - loss: 0.0347 - accuracy: 0.9885 - val_loss: 0.0030 - val_accuracy: 0.9990\n",
      "Epoch 6/10\n",
      "113/113 [==============================] - 975s 9s/step - loss: 0.0300 - accuracy: 0.9896 - val_loss: 0.0029 - val_accuracy: 0.9990\n",
      "Epoch 7/10\n",
      "113/113 [==============================] - 941s 8s/step - loss: 0.0262 - accuracy: 0.9919 - val_loss: 0.0080 - val_accuracy: 0.9983\n",
      "Epoch 8/10\n",
      "113/113 [==============================] - 939s 8s/step - loss: 0.0262 - accuracy: 0.9910 - val_loss: 0.0027 - val_accuracy: 0.9992\n",
      "Epoch 9/10\n",
      "113/113 [==============================] - 936s 8s/step - loss: 0.0175 - accuracy: 0.9942 - val_loss: 0.0019 - val_accuracy: 0.9994\n",
      "Epoch 10/10\n",
      "113/113 [==============================] - 980s 9s/step - loss: 0.0200 - accuracy: 0.9935 - val_loss: 7.0092e-04 - val_accuracy: 0.9999\n",
      "227/227 [==============================] - 47s 207ms/step - loss: 7.0091e-04 - accuracy: 0.9999\n"
     ]
    },
    {
     "data": {
      "text/plain": [
       "[0.0007009149994701147, 0.9998617768287659]"
      ]
     },
     "execution_count": 17,
     "metadata": {},
     "output_type": "execute_result"
    }
   ],
   "source": [
    "history = model.fit(train_images, train_labels_one_hot, batch_size=batch_size,\n",
    "                    epochs=epochs, verbose=1, validation_data=(test_images, test_labels_one_hot))\n",
    "model.evaluate(test_images, test_labels_one_hot)\n"
   ]
  },
  {
   "cell_type": "code",
   "execution_count": 18,
   "metadata": {},
   "outputs": [
    {
     "name": "stdout",
     "output_type": "stream",
     "text": [
      "Model Saved\n",
      "Weights saved\n"
     ]
    },
    {
     "name": "stderr",
     "output_type": "stream",
     "text": [
      "c:\\Users\\anjuv\\AppData\\Local\\Programs\\Python\\Python310\\lib\\site-packages\\keras\\engine\\training.py:2980: UserWarning: You are saving your model as an HDF5 file via `model.save()`. This file format is considered legacy. We recommend using instead the native Keras format, e.g. `model.save('my_model.keras')`.\n",
      "  saving_api.save_model(\n"
     ]
    }
   ],
   "source": [
    "# model_json = model.to_json()\n",
    "# with open(\"model_new.json\", \"w\") as json_file:\n",
    "#     json_file.write(model_json)\n",
    "# print('Model Saved')\n",
    "# model.save_weights('model_updated.h5')\n",
    "# print('Weights saved')\n",
    "# model.save('model.h5')"
   ]
  },
  {
   "attachments": {},
   "cell_type": "markdown",
   "metadata": {},
   "source": [
    "Visualizing loss"
   ]
  },
  {
   "cell_type": "code",
   "execution_count": 19,
   "metadata": {},
   "outputs": [
    {
     "data": {
      "text/plain": [
       "Text(0.5, 1.0, 'Loss Curves')"
      ]
     },
     "execution_count": 19,
     "metadata": {},
     "output_type": "execute_result"
    },
    {
     "data": {
      "image/png": "[encoded data removed]",
      "text/plain": [
       "<Figure size 576x432 with 1 Axes>"
      ]
     },
     "metadata": {
      "needs_background": "light"
     },
     "output_type": "display_data"
    }
   ],
   "source": [
    "# plt.figure(figsize=[8, 6])\n",
    "# plt.plot(history.history['loss'], 'r', linewidth=2.0)\n",
    "# plt.plot(history.history['val_loss'], 'b', linewidth=2.0)\n",
    "# plt.legend(['Training loss', 'Validation Loss'], fontsize=15)\n",
    "# plt.xlabel('Epochs ', fontsize=16)\n",
    "# plt.ylabel('Loss', fontsize=16)\n",
    "# plt.title('Loss Curves', fontsize=16)\n"
   ]
  },
  {
   "attachments": {},
   "cell_type": "markdown",
   "metadata": {},
   "source": [
    "Visualizing accuracy"
   ]
  },
  {
   "cell_type": "code",
   "execution_count": 20,
   "metadata": {},
   "outputs": [
    {
     "data": {
      "text/plain": [
       "Text(0.5, 1.0, 'Accuracy Curves')"
      ]
     },
     "execution_count": 20,
     "metadata": {},
     "output_type": "execute_result"
    },
    {
     "data": {
      "image/png": "[encoded data removed]",
      "text/plain": [
       "<Figure size 576x432 with 1 Axes>"
      ]
     },
     "metadata": {
      "needs_background": "light"
     },
     "output_type": "display_data"
    }
   ],
   "source": [
    "# plt.figure(figsize=[8, 6])\n",
    "# plt.plot(history.history['accuracy'], 'r', linewidth=2.0)\n",
    "# plt.plot(history.history['val_accuracy'], 'b', linewidth=2.0)\n",
    "# plt.legend(['Training Accuracy', 'Validation Accuracy'], fontsize=15)\n",
    "# plt.xlabel('Epochs ', fontsize=16)\n",
    "# plt.ylabel('Accuracy', fontsize=16)\n",
    "# plt.title('Accuracy Curves', fontsize=16)"
   ]
  },
  {
   "cell_type": "code",
   "execution_count": 21,
   "metadata": {},
   "outputs": [],
   "source": [
    "# import pickle\n",
    "\n",
    "# with open('model.pkl', 'wb') as files:\n",
    "#     pickle.dump(model, files)\n"
   ]
  },
  {
   "cell_type": "code",
   "execution_count": null,
   "metadata": {},
   "outputs": [],
   "source": [
    "(X_train, y_train), (X_test, y_test) = mnist.load_data()"
   ]
  },
  {
   "cell_type": "code",
   "execution_count": null,
   "metadata": {},
   "outputs": [],
   "source": [
    "y_pred = model.predict(X_test)"
   ]
  },
  {
   "cell_type": "code",
   "execution_count": null,
   "metadata": {},
   "outputs": [],
   "source": [
    "c_m = confusion_matrix(y_test, y_pred)\n",
    "\n",
    "print(classification_report(y_test, y_pred))\n",
    "\n",
    "plt.figure(figsize=(20, 17))\n",
    "plt.title(\"Confusion Matrix for K Nearest Neighbour\")\n",
    "df_cm = pd.DataFrame(c_m)\n",
    "sbn.heatmap(df_cm, annot=True)"
   ]
  },
  {
   "cell_type": "code",
   "execution_count": null,
   "metadata": {},
   "outputs": [],
   "source": [
    "plt.savefig('confusion.png')"
   ]
  }
 ],
 "metadata": {
  "kernelspec": {
   "display_name": "Python 3.11.0 64-bit",
   "language": "python",
   "name": "python3"
  },
  "language_info": {
   "codemirror_mode": {
    "name": "ipython",
    "version": 3
   },
   "file_extension": ".py",
   "mimetype": "text/x-python",
   "name": "python",
   "nbconvert_exporter": "python",
   "pygments_lexer": "ipython3",
   "version": "3.10.2"
  },
  "orig_nbformat": 4,
  "vscode": {
   "interpreter": {
    "hash": "adbf25f6057a8929f58a5c88decc278f2bc49a76e25f3de3b15f2a6ee5d3b1b8"
   }
  }
 },
 "nbformat": 4,
 "nbformat_minor": 2
}
