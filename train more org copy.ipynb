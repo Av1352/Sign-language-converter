{
 "cells": [
  {
   "cell_type": "code",
   "execution_count": 1,
   "metadata": {},
   "outputs": [],
   "source": [
    "from keras.preprocessing.image import ImageDataGenerator\n",
    "from keras.datasets import mnist\n",
    "from keras.models import Sequential\n",
    "from keras.layers import Conv2D, LSTM\n",
    "from keras.layers import MaxPooling2D\n",
    "from keras.layers import Dense, Dropout, Flatten\n",
    "import matplotlib.pyplot as plt"
   ]
  },
  {
   "cell_type": "code",
   "execution_count": 2,
   "metadata": {},
   "outputs": [],
   "source": [
    "train_dir = 'output (more)/train'\n",
    "val_dir = 'output (more)/test'"
   ]
  },
  {
   "cell_type": "code",
   "execution_count": 3,
   "metadata": {},
   "outputs": [],
   "source": [
    "train_datagen = ImageDataGenerator(rescale=1./255,\n",
    "                                   shear_range=0.2,\n",
    "                                   zoom_range=0.2,\n",
    "                                   horizontal_flip=True)"
   ]
  },
  {
   "cell_type": "code",
   "execution_count": 4,
   "metadata": {},
   "outputs": [],
   "source": [
    "test_datagen = ImageDataGenerator(rescale=1./255)"
   ]
  },
  {
   "cell_type": "code",
   "execution_count": 5,
   "metadata": {},
   "outputs": [
    {
     "name": "stdout",
     "output_type": "stream",
     "text": [
      "Found 1968 images belonging to 41 classes.\n"
     ]
    }
   ],
   "source": [
    "train_generator = train_datagen.flow_from_directory(\n",
    "    train_dir,\n",
    "    target_size=(128, 128),\n",
    "    batch_size=24,\n",
    "    color_mode=\"grayscale\",\n",
    "    class_mode='categorical',\n",
    ")\n"
   ]
  },
  {
   "cell_type": "code",
   "execution_count": 6,
   "metadata": {},
   "outputs": [
    {
     "name": "stdout",
     "output_type": "stream",
     "text": [
      "Found 492 images belonging to 41 classes.\n"
     ]
    }
   ],
   "source": [
    "test_generator = test_datagen.flow_from_directory(\n",
    "    val_dir,\n",
    "    target_size=(128, 128),\n",
    "    batch_size=6,\n",
    "    color_mode=\"grayscale\",\n",
    "    class_mode='categorical'\n",
    ")\n"
   ]
  },
  {
   "cell_type": "code",
   "execution_count": 7,
   "metadata": {},
   "outputs": [],
   "source": [
    "model = Sequential()\n"
   ]
  },
  {
   "cell_type": "code",
   "execution_count": 8,
   "metadata": {},
   "outputs": [],
   "source": [
    "model.add(Conv2D(32, (3, 3),\n",
    "          activation='relu', input_shape=(128, 128, 1)))\n",
    "\n"
   ]
  },
  {
   "cell_type": "code",
   "execution_count": 9,
   "metadata": {},
   "outputs": [],
   "source": [
    "model.add(MaxPooling2D(pool_size=(2, 2)))\n"
   ]
  },
  {
   "cell_type": "code",
   "execution_count": 10,
   "metadata": {},
   "outputs": [],
   "source": [
    "model.add(Conv2D(32, (3, 3), padding=\"same\",\n",
    "          activation='relu'))\n",
    "model.add(MaxPooling2D(pool_size=(2, 2)))\n"
   ]
  },
  {
   "cell_type": "code",
   "execution_count": 11,
   "metadata": {},
   "outputs": [],
   "source": [
    "model.add(Flatten())\n"
   ]
  },
  {
   "cell_type": "code",
   "execution_count": 12,
   "metadata": {},
   "outputs": [],
   "source": [
    "model.add(Dense(128, activation='relu'))\n",
    "model.add(Dropout(0.40))\n",
    "\n",
    "model.add(Dense(96, activation='relu'))\n",
    "model.add(Dropout(0.40))\n",
    "\n",
    "model.add(Dense(64, activation='relu'))\n",
    "model.add(Dense(41, activation='softmax'))"
   ]
  },
  {
   "cell_type": "code",
   "execution_count": 13,
   "metadata": {},
   "outputs": [],
   "source": [
    "model.compile(optimizer='adam', \n",
    "            loss='categorical_crossentropy',\n",
    "            metrics=['accuracy'])\n"
   ]
  },
  {
   "cell_type": "code",
   "execution_count": 14,
   "metadata": {},
   "outputs": [
    {
     "name": "stdout",
     "output_type": "stream",
     "text": [
      "Model: \"sequential\"\n",
      "_________________________________________________________________\n",
      " Layer (type)                Output Shape              Param #   \n",
      "=================================================================\n",
      " conv2d (Conv2D)             (None, 126, 126, 32)      320       \n",
      "                                                                 \n",
      " max_pooling2d (MaxPooling2D  (None, 63, 63, 32)       0         \n",
      " )                                                               \n",
      "                                                                 \n",
      " conv2d_1 (Conv2D)           (None, 63, 63, 32)        9248      \n",
      "                                                                 \n",
      " max_pooling2d_1 (MaxPooling  (None, 31, 31, 32)       0         \n",
      " 2D)                                                             \n",
      "                                                                 \n",
      " flatten (Flatten)           (None, 30752)             0         \n",
      "                                                                 \n",
      " dense (Dense)               (None, 128)               3936384   \n",
      "                                                                 \n",
      " dropout (Dropout)           (None, 128)               0         \n",
      "                                                                 \n",
      " dense_1 (Dense)             (None, 96)                12384     \n",
      "                                                                 \n",
      " dropout_1 (Dropout)         (None, 96)                0         \n",
      "                                                                 \n",
      " dense_2 (Dense)             (None, 64)                6208      \n",
      "                                                                 \n",
      " dense_3 (Dense)             (None, 41)                2665      \n",
      "                                                                 \n",
      "=================================================================\n",
      "Total params: 3967209 (15.13 MB)\n",
      "Trainable params: 3967209 (15.13 MB)\n",
      "Non-trainable params: 0 (0.00 Byte)\n",
      "_________________________________________________________________\n"
     ]
    }
   ],
   "source": [
    "model.summary()\n"
   ]
  },
  {
   "cell_type": "code",
   "execution_count": 15,
   "metadata": {},
   "outputs": [
    {
     "name": "stdout",
     "output_type": "stream",
     "text": [
      "Epoch 1/100\n",
      "82/82 [==============================] - 80s 857ms/step - loss: 3.7219 - accuracy: 0.0274 - val_loss: 3.6372 - val_accuracy: 0.0732\n",
      "Epoch 2/100\n",
      "82/82 [==============================] - 69s 844ms/step - loss: 3.4656 - accuracy: 0.0503 - val_loss: 3.1465 - val_accuracy: 0.0366\n",
      "Epoch 3/100\n",
      "82/82 [==============================] - 65s 789ms/step - loss: 3.0915 - accuracy: 0.0874 - val_loss: 2.5437 - val_accuracy: 0.2033\n",
      "Epoch 4/100\n",
      "82/82 [==============================] - 45s 540ms/step - loss: 2.6343 - accuracy: 0.1692 - val_loss: 1.8243 - val_accuracy: 0.4268\n",
      "Epoch 5/100\n",
      "82/82 [==============================] - 40s 489ms/step - loss: 2.2551 - accuracy: 0.2373 - val_loss: 1.4341 - val_accuracy: 0.5650\n",
      "Epoch 6/100\n",
      "82/82 [==============================] - 36s 440ms/step - loss: 2.0198 - accuracy: 0.3105 - val_loss: 1.2142 - val_accuracy: 0.5732\n",
      "Epoch 7/100\n",
      "82/82 [==============================] - 37s 455ms/step - loss: 1.8204 - accuracy: 0.3455 - val_loss: 1.1068 - val_accuracy: 0.6585\n",
      "Epoch 8/100\n",
      "82/82 [==============================] - 37s 454ms/step - loss: 1.7277 - accuracy: 0.3730 - val_loss: 0.8783 - val_accuracy: 0.6789\n",
      "Epoch 9/100\n",
      "82/82 [==============================] - 37s 451ms/step - loss: 1.6420 - accuracy: 0.4136 - val_loss: 0.8838 - val_accuracy: 0.7236\n",
      "Epoch 10/100\n",
      "82/82 [==============================] - 36s 444ms/step - loss: 1.5731 - accuracy: 0.4309 - val_loss: 0.7673 - val_accuracy: 0.7317\n",
      "Epoch 11/100\n",
      "82/82 [==============================] - 39s 473ms/step - loss: 1.5124 - accuracy: 0.4395 - val_loss: 0.6860 - val_accuracy: 0.7805\n",
      "Epoch 12/100\n",
      "82/82 [==============================] - 38s 463ms/step - loss: 1.4473 - accuracy: 0.4593 - val_loss: 0.6657 - val_accuracy: 0.7561\n",
      "Epoch 13/100\n",
      "82/82 [==============================] - 37s 447ms/step - loss: 1.4557 - accuracy: 0.4563 - val_loss: 0.6614 - val_accuracy: 0.7683\n",
      "Epoch 14/100\n",
      "82/82 [==============================] - 36s 443ms/step - loss: 1.3594 - accuracy: 0.4964 - val_loss: 0.6671 - val_accuracy: 0.7846\n",
      "Epoch 15/100\n",
      "82/82 [==============================] - 37s 453ms/step - loss: 1.3460 - accuracy: 0.5005 - val_loss: 0.6144 - val_accuracy: 0.7805\n",
      "Epoch 16/100\n",
      "82/82 [==============================] - 37s 446ms/step - loss: 1.2764 - accuracy: 0.5239 - val_loss: 0.5460 - val_accuracy: 0.8577\n",
      "Epoch 17/100\n",
      "82/82 [==============================] - 37s 456ms/step - loss: 1.2738 - accuracy: 0.5371 - val_loss: 0.5105 - val_accuracy: 0.8374\n",
      "Epoch 18/100\n",
      "82/82 [==============================] - 38s 461ms/step - loss: 1.2154 - accuracy: 0.5407 - val_loss: 0.4891 - val_accuracy: 0.8130\n",
      "Epoch 19/100\n",
      "82/82 [==============================] - 37s 454ms/step - loss: 1.2335 - accuracy: 0.5340 - val_loss: 0.4526 - val_accuracy: 0.8902\n",
      "Epoch 20/100\n",
      "82/82 [==============================] - 38s 468ms/step - loss: 1.1567 - accuracy: 0.5716 - val_loss: 0.4272 - val_accuracy: 0.8618\n",
      "Epoch 21/100\n",
      "82/82 [==============================] - 46s 560ms/step - loss: 1.0922 - accuracy: 0.6082 - val_loss: 0.3904 - val_accuracy: 0.8821\n",
      "Epoch 22/100\n",
      "82/82 [==============================] - 35s 419ms/step - loss: 1.0903 - accuracy: 0.6092 - val_loss: 0.3472 - val_accuracy: 0.9146\n",
      "Epoch 23/100\n",
      "82/82 [==============================] - 35s 425ms/step - loss: 1.1335 - accuracy: 0.5971 - val_loss: 0.3898 - val_accuracy: 0.9065\n",
      "Epoch 24/100\n",
      "82/82 [==============================] - 38s 458ms/step - loss: 1.0362 - accuracy: 0.6250 - val_loss: 0.2903 - val_accuracy: 0.9187\n",
      "Epoch 25/100\n",
      "82/82 [==============================] - 36s 437ms/step - loss: 1.0509 - accuracy: 0.6194 - val_loss: 0.3504 - val_accuracy: 0.8862\n",
      "Epoch 26/100\n",
      "82/82 [==============================] - 35s 422ms/step - loss: 1.0530 - accuracy: 0.6225 - val_loss: 0.3141 - val_accuracy: 0.9187\n",
      "Epoch 27/100\n",
      "82/82 [==============================] - 37s 449ms/step - loss: 1.0110 - accuracy: 0.6316 - val_loss: 0.2513 - val_accuracy: 0.9593\n",
      "Epoch 28/100\n",
      "82/82 [==============================] - 37s 452ms/step - loss: 0.9803 - accuracy: 0.6402 - val_loss: 0.2357 - val_accuracy: 0.9512\n",
      "Epoch 29/100\n",
      "82/82 [==============================] - 38s 457ms/step - loss: 0.9776 - accuracy: 0.6428 - val_loss: 0.2502 - val_accuracy: 0.9390\n",
      "Epoch 30/100\n",
      "82/82 [==============================] - 36s 439ms/step - loss: 0.9316 - accuracy: 0.6636 - val_loss: 0.2382 - val_accuracy: 0.9472\n",
      "Epoch 31/100\n",
      "82/82 [==============================] - 37s 450ms/step - loss: 0.9431 - accuracy: 0.6641 - val_loss: 0.2524 - val_accuracy: 0.9431\n",
      "Epoch 32/100\n",
      "82/82 [==============================] - 37s 447ms/step - loss: 0.9108 - accuracy: 0.6723 - val_loss: 0.2128 - val_accuracy: 0.9878\n",
      "Epoch 33/100\n",
      "82/82 [==============================] - 37s 444ms/step - loss: 0.8816 - accuracy: 0.6875 - val_loss: 0.2330 - val_accuracy: 0.9431\n",
      "Epoch 34/100\n",
      "82/82 [==============================] - 38s 458ms/step - loss: 0.8451 - accuracy: 0.6885 - val_loss: 0.1915 - val_accuracy: 0.9878\n",
      "Epoch 35/100\n",
      "82/82 [==============================] - 36s 442ms/step - loss: 0.9084 - accuracy: 0.6789 - val_loss: 0.1881 - val_accuracy: 0.9593\n",
      "Epoch 36/100\n",
      "82/82 [==============================] - 36s 440ms/step - loss: 0.7930 - accuracy: 0.7048 - val_loss: 0.1637 - val_accuracy: 0.9837\n",
      "Epoch 37/100\n",
      "82/82 [==============================] - 36s 437ms/step - loss: 0.8679 - accuracy: 0.6961 - val_loss: 0.1589 - val_accuracy: 0.9878\n",
      "Epoch 38/100\n",
      "82/82 [==============================] - 38s 462ms/step - loss: 0.8345 - accuracy: 0.7027 - val_loss: 0.1802 - val_accuracy: 0.9390\n",
      "Epoch 39/100\n",
      "82/82 [==============================] - 36s 438ms/step - loss: 0.7967 - accuracy: 0.7063 - val_loss: 0.1913 - val_accuracy: 0.9797\n",
      "Epoch 40/100\n",
      "82/82 [==============================] - 39s 481ms/step - loss: 0.8027 - accuracy: 0.7154 - val_loss: 0.1490 - val_accuracy: 0.9837\n",
      "Epoch 41/100\n",
      "82/82 [==============================] - ETA: 0s - loss: 0.8180 - accuracy: 0.7160"
     ]
    }
   ],
   "source": [
    "history = model.fit(train_generator,\n",
    "                    epochs=100,\n",
    "                    validation_data=test_generator)\n"
   ]
  },
  {
   "cell_type": "code",
   "execution_count": null,
   "metadata": {},
   "outputs": [],
   "source": [
    "model_json = model.to_json()\n",
    "with open(\"model_100.json\", \"w\") as json_file:\n",
    "    json_file.write(model_json)\n",
    "print('Model Saved')\n",
    "model.save_weights('model_100.h5')\n",
    "print('Weights saved')\n"
   ]
  },
  {
   "cell_type": "code",
   "execution_count": null,
   "metadata": {},
   "outputs": [],
   "source": [
    "(X_train, y_train), (X_test, y_test) = mnist.load_data()\n"
   ]
  },
  {
   "attachments": {},
   "cell_type": "markdown",
   "metadata": {},
   "source": [
    "Visualizing loss"
   ]
  },
  {
   "cell_type": "code",
   "execution_count": null,
   "metadata": {},
   "outputs": [],
   "source": [
    "plt.figure(figsize=[8, 6])\n",
    "plt.plot(history.history['loss'], 'r', linewidth=2.0)\n",
    "plt.plot(history.history['val_loss'], 'b', linewidth=2.0)\n",
    "plt.legend(['Training loss', 'Validation Loss'], fontsize=15)\n",
    "plt.xlabel('Epochs ', fontsize=16)\n",
    "plt.ylabel('Loss', fontsize=16)\n",
    "plt.title('Loss Curves', fontsize=16)\n"
   ]
  },
  {
   "attachments": {},
   "cell_type": "markdown",
   "metadata": {},
   "source": [
    "Visualizing accuracy"
   ]
  },
  {
   "cell_type": "code",
   "execution_count": null,
   "metadata": {},
   "outputs": [],
   "source": [
    "plt.figure(figsize=[8, 6])\n",
    "plt.plot(history.history['accuracy'], 'r', linewidth=2.0)\n",
    "plt.plot(history.history['val_accuracy'], 'b', linewidth=2.0)\n",
    "plt.legend(['Training Accuracy', 'Validation Accuracy'], fontsize=15)\n",
    "plt.xlabel('Epochs ', fontsize=16)\n",
    "plt.ylabel('Accuracy', fontsize=16)\n",
    "plt.title('Accuracy Curves', fontsize=16)\n"
   ]
  }
 ],
 "metadata": {
  "kernelspec": {
   "display_name": "Python 3.11.0 64-bit",
   "language": "python",
   "name": "python3"
  },
  "language_info": {
   "codemirror_mode": {
    "name": "ipython",
    "version": 3
   },
   "file_extension": ".py",
   "mimetype": "text/x-python",
   "name": "python",
   "nbconvert_exporter": "python",
   "pygments_lexer": "ipython3",
   "version": "3.10.2"
  },
  "orig_nbformat": 4,
  "vscode": {
   "interpreter": {
    "hash": "adbf25f6057a8929f58a5c88decc278f2bc49a76e25f3de3b15f2a6ee5d3b1b8"
   }
  }
 },
 "nbformat": 4,
 "nbformat_minor": 2
}
