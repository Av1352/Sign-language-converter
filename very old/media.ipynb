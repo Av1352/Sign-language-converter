{
 "cells": [
  {
   "cell_type": "code",
   "execution_count": 1,
   "metadata": {},
   "outputs": [],
   "source": [
    "import cv2\n",
    "import mediapipe as mp\n",
    "mp_drawing = mp.solutions.drawing_utils\n",
    "mp_drawing_styles = mp.solutions.drawing_styles\n",
    "mp_hands = mp.solutions.hands\n",
    "from pathlib import Path"
   ]
  },
  {
   "cell_type": "code",
   "execution_count": 11,
   "metadata": {},
   "outputs": [],
   "source": [
    "IMAGE_FILES = []"
   ]
  },
  {
   "cell_type": "code",
   "execution_count": 17,
   "metadata": {},
   "outputs": [
    {
     "name": "stdout",
     "output_type": "stream",
     "text": [
      "[WindowsPath('images/1/1.d392c64c-c0c4-11ed-9405-8cc84b59e01a.jpg'), WindowsPath('images/1/1.d4d23f76-c0c4-11ed-adb7-8cc84b59e01a.jpg'), WindowsPath('images/1/1.d6070104-c0c4-11ed-9152-8cc84b59e01a.jpg'), WindowsPath('images/1/1.d73f3a6f-c0c4-11ed-a9da-8cc84b59e01a.jpg'), WindowsPath('images/1/1.d876a963-c0c4-11ed-b2c4-8cc84b59e01a.jpg'), WindowsPath('images/1/1.d9acf348-c0c4-11ed-b6a4-8cc84b59e01a.jpg'), WindowsPath('images/1/1.dae426d3-c0c4-11ed-82b1-8cc84b59e01a.jpg'), WindowsPath('images/1/1.dc1a5e87-c0c4-11ed-bc61-8cc84b59e01a.jpg'), WindowsPath('images/1/1.dd4df174-c0c4-11ed-a7e7-8cc84b59e01a.jpg'), WindowsPath('images/1/1.de81ec58-c0c4-11ed-acf9-8cc84b59e01a.jpg'), WindowsPath('images/1/1.dfb80200-c0c4-11ed-a454-8cc84b59e01a.jpg'), WindowsPath('images/1/1.e0ebdb44-c0c4-11ed-b4c2-8cc84b59e01a.jpg'), WindowsPath('images/1/1.e2206e0d-c0c4-11ed-96b1-8cc84b59e01a.jpg'), WindowsPath('images/1/1.e3560550-c0c4-11ed-b74d-8cc84b59e01a.jpg'), WindowsPath('images/1/1.e48cf905-c0c4-11ed-9748-8cc84b59e01a.jpg'), WindowsPath('images/1/1.e5c79dde-c0c4-11ed-8250-8cc84b59e01a.jpg'), WindowsPath('images/1/1.e6fb752f-c0c4-11ed-9a92-8cc84b59e01a.jpg'), WindowsPath('images/1/1.e830bfe7-c0c4-11ed-937d-8cc84b59e01a.jpg'), WindowsPath('images/1/1.e965a6b5-c0c4-11ed-bb36-8cc84b59e01a.jpg'), WindowsPath('images/1/1.ea9a8f8e-c0c4-11ed-9a77-8cc84b59e01a.jpg'), WindowsPath('images/1/1.ebd09b4c-c0c4-11ed-8244-8cc84b59e01a.jpg'), WindowsPath('images/1/1.ed04cd74-c0c4-11ed-99a7-8cc84b59e01a.jpg'), WindowsPath('images/1/1.ee3d78c0-c0c4-11ed-8bb5-8cc84b59e01a.jpg'), WindowsPath('images/1/1.ef72170e-c0c4-11ed-9fa7-8cc84b59e01a.jpg'), WindowsPath('images/1/1.f0a87a56-c0c4-11ed-bf3b-8cc84b59e01a.jpg'), WindowsPath('images/1/1.f1dd2529-c0c4-11ed-923d-8cc84b59e01a.jpg'), WindowsPath('images/1/1.f311b588-c0c4-11ed-b72c-8cc84b59e01a.jpg'), WindowsPath('images/1/1.f4463907-c0c4-11ed-b616-8cc84b59e01a.jpg'), WindowsPath('images/1/1.f57ae0f3-c0c4-11ed-9602-8cc84b59e01a.jpg'), WindowsPath('images/1/1.f6b14c0e-c0c4-11ed-b1f2-8cc84b59e01a.jpg'), WindowsPath('images/1/1.d392c64c-c0c4-11ed-9405-8cc84b59e01a.jpg'), WindowsPath('images/1/1.d4d23f76-c0c4-11ed-adb7-8cc84b59e01a.jpg'), WindowsPath('images/1/1.d6070104-c0c4-11ed-9152-8cc84b59e01a.jpg'), WindowsPath('images/1/1.d73f3a6f-c0c4-11ed-a9da-8cc84b59e01a.jpg'), WindowsPath('images/1/1.d876a963-c0c4-11ed-b2c4-8cc84b59e01a.jpg'), WindowsPath('images/1/1.d9acf348-c0c4-11ed-b6a4-8cc84b59e01a.jpg'), WindowsPath('images/1/1.dae426d3-c0c4-11ed-82b1-8cc84b59e01a.jpg'), WindowsPath('images/1/1.dc1a5e87-c0c4-11ed-bc61-8cc84b59e01a.jpg'), WindowsPath('images/1/1.dd4df174-c0c4-11ed-a7e7-8cc84b59e01a.jpg'), WindowsPath('images/1/1.de81ec58-c0c4-11ed-acf9-8cc84b59e01a.jpg'), WindowsPath('images/1/1.dfb80200-c0c4-11ed-a454-8cc84b59e01a.jpg'), WindowsPath('images/1/1.e0ebdb44-c0c4-11ed-b4c2-8cc84b59e01a.jpg'), WindowsPath('images/1/1.e2206e0d-c0c4-11ed-96b1-8cc84b59e01a.jpg'), WindowsPath('images/1/1.e3560550-c0c4-11ed-b74d-8cc84b59e01a.jpg'), WindowsPath('images/1/1.e48cf905-c0c4-11ed-9748-8cc84b59e01a.jpg'), WindowsPath('images/1/1.e5c79dde-c0c4-11ed-8250-8cc84b59e01a.jpg'), WindowsPath('images/1/1.e6fb752f-c0c4-11ed-9a92-8cc84b59e01a.jpg'), WindowsPath('images/1/1.e830bfe7-c0c4-11ed-937d-8cc84b59e01a.jpg'), WindowsPath('images/1/1.e965a6b5-c0c4-11ed-bb36-8cc84b59e01a.jpg'), WindowsPath('images/1/1.ea9a8f8e-c0c4-11ed-9a77-8cc84b59e01a.jpg'), WindowsPath('images/1/1.ebd09b4c-c0c4-11ed-8244-8cc84b59e01a.jpg'), WindowsPath('images/1/1.ed04cd74-c0c4-11ed-99a7-8cc84b59e01a.jpg'), WindowsPath('images/1/1.ee3d78c0-c0c4-11ed-8bb5-8cc84b59e01a.jpg'), WindowsPath('images/1/1.ef72170e-c0c4-11ed-9fa7-8cc84b59e01a.jpg'), WindowsPath('images/1/1.f0a87a56-c0c4-11ed-bf3b-8cc84b59e01a.jpg'), WindowsPath('images/1/1.f1dd2529-c0c4-11ed-923d-8cc84b59e01a.jpg'), WindowsPath('images/1/1.f311b588-c0c4-11ed-b72c-8cc84b59e01a.jpg'), WindowsPath('images/1/1.f4463907-c0c4-11ed-b616-8cc84b59e01a.jpg'), WindowsPath('images/1/1.f57ae0f3-c0c4-11ed-9602-8cc84b59e01a.jpg'), WindowsPath('images/1/1.f6b14c0e-c0c4-11ed-b1f2-8cc84b59e01a.jpg'), WindowsPath('images/2/2.ceee9341-c0c6-11ed-a95f-8cc84b59e01a.jpg'), WindowsPath('images/2/2.d0269717-c0c6-11ed-86fa-8cc84b59e01a.jpg'), WindowsPath('images/2/2.d15f79c0-c0c6-11ed-a2b2-8cc84b59e01a.jpg'), WindowsPath('images/2/2.d2955ea7-c0c6-11ed-9c9c-8cc84b59e01a.jpg'), WindowsPath('images/2/2.d3cb967f-c0c6-11ed-8616-8cc84b59e01a.jpg'), WindowsPath('images/2/2.d5001efe-c0c6-11ed-b54c-8cc84b59e01a.jpg'), WindowsPath('images/2/2.d6346167-c0c6-11ed-8b1b-8cc84b59e01a.jpg'), WindowsPath('images/2/2.d768453b-c0c6-11ed-8003-8cc84b59e01a.jpg'), WindowsPath('images/2/2.d89d5c43-c0c6-11ed-be9f-8cc84b59e01a.jpg'), WindowsPath('images/2/2.d9d3b307-c0c6-11ed-b569-8cc84b59e01a.jpg'), WindowsPath('images/2/2.db080ddb-c0c6-11ed-962f-8cc84b59e01a.jpg'), WindowsPath('images/2/2.dc3bfb7e-c0c6-11ed-8bce-8cc84b59e01a.jpg'), WindowsPath('images/2/2.dd726f6b-c0c6-11ed-b86a-8cc84b59e01a.jpg'), WindowsPath('images/2/2.dea6deed-c0c6-11ed-bc82-8cc84b59e01a.jpg'), WindowsPath('images/2/2.dfdcd73c-c0c6-11ed-96bb-8cc84b59e01a.jpg'), WindowsPath('images/2/2.e1126e89-c0c6-11ed-bbb1-8cc84b59e01a.jpg'), WindowsPath('images/2/2.e2474cba-c0c6-11ed-8dae-8cc84b59e01a.jpg'), WindowsPath('images/2/2.e37e3f32-c0c6-11ed-9d4a-8cc84b59e01a.jpg'), WindowsPath('images/2/2.e4b50033-c0c6-11ed-8918-8cc84b59e01a.jpg'), WindowsPath('images/2/2.e5e9d3a8-c0c6-11ed-a15a-8cc84b59e01a.jpg'), WindowsPath('images/2/2.e720ccb6-c0c6-11ed-bc68-8cc84b59e01a.jpg'), WindowsPath('images/2/2.e8563cc4-c0c6-11ed-991f-8cc84b59e01a.jpg'), WindowsPath('images/2/2.e98ad5c6-c0c6-11ed-81e8-8cc84b59e01a.jpg'), WindowsPath('images/2/2.eac05289-c0c6-11ed-a0b4-8cc84b59e01a.jpg'), WindowsPath('images/2/2.ebf5ae21-c0c6-11ed-837f-8cc84b59e01a.jpg'), WindowsPath('images/2/2.ed2c479f-c0c6-11ed-ba04-8cc84b59e01a.jpg'), WindowsPath('images/2/2.ee614129-c0c6-11ed-b3ad-8cc84b59e01a.jpg'), WindowsPath('images/2/2.ef96374f-c0c6-11ed-ad83-8cc84b59e01a.jpg'), WindowsPath('images/2/2.f0ca6737-c0c6-11ed-a4e8-8cc84b59e01a.jpg'), WindowsPath('images/2/2.f1ffa044-c0c6-11ed-863d-8cc84b59e01a.jpg'), WindowsPath('images/3/3.2fcd538b-c0c7-11ed-bb66-8cc84b59e01a.jpg'), WindowsPath('images/3/3.31013282-c0c7-11ed-bea5-8cc84b59e01a.jpg'), WindowsPath('images/3/3.32394e4e-c0c7-11ed-acd2-8cc84b59e01a.jpg'), WindowsPath('images/3/3.3370f543-c0c7-11ed-9f79-8cc84b59e01a.jpg'), WindowsPath('images/3/3.34a85136-c0c7-11ed-9416-8cc84b59e01a.jpg'), WindowsPath('images/3/3.35de6399-c0c7-11ed-9d02-8cc84b59e01a.jpg'), WindowsPath('images/3/3.371368e1-c0c7-11ed-bd95-8cc84b59e01a.jpg'), WindowsPath('images/3/3.38493fd8-c0c7-11ed-b533-8cc84b59e01a.jpg'), WindowsPath('images/3/3.397da325-c0c7-11ed-97bb-8cc84b59e01a.jpg'), WindowsPath('images/3/3.3ab354d7-c0c7-11ed-9899-8cc84b59e01a.jpg'), WindowsPath('images/3/3.3beb1fad-c0c7-11ed-898b-8cc84b59e01a.jpg'), WindowsPath('images/3/3.3d200168-c0c7-11ed-a9f4-8cc84b59e01a.jpg'), WindowsPath('images/3/3.3e55bca6-c0c7-11ed-9701-8cc84b59e01a.jpg'), WindowsPath('images/3/3.3f8a7f78-c0c7-11ed-b64a-8cc84b59e01a.jpg'), WindowsPath('images/3/3.40bfa162-c0c7-11ed-8aa5-8cc84b59e01a.jpg'), WindowsPath('images/3/3.41fb1f16-c0c7-11ed-a117-8cc84b59e01a.jpg'), WindowsPath('images/3/3.432f11b0-c0c7-11ed-8184-8cc84b59e01a.jpg'), WindowsPath('images/3/3.44644904-c0c7-11ed-818e-8cc84b59e01a.jpg'), WindowsPath('images/3/3.459a38e0-c0c7-11ed-9e0f-8cc84b59e01a.jpg'), WindowsPath('images/3/3.46d13371-c0c7-11ed-beda-8cc84b59e01a.jpg'), WindowsPath('images/3/3.48052c98-c0c7-11ed-bdaf-8cc84b59e01a.jpg'), WindowsPath('images/3/3.493a555a-c0c7-11ed-b48c-8cc84b59e01a.jpg'), WindowsPath('images/3/3.4a744873-c0c7-11ed-8899-8cc84b59e01a.jpg'), WindowsPath('images/3/3.4baa0489-c0c7-11ed-9a91-8cc84b59e01a.jpg'), WindowsPath('images/3/3.4ce0db32-c0c7-11ed-bd76-8cc84b59e01a.jpg'), WindowsPath('images/3/3.4e151480-c0c7-11ed-ba0b-8cc84b59e01a.jpg'), WindowsPath('images/3/3.4f4a592c-c0c7-11ed-8eb8-8cc84b59e01a.jpg'), WindowsPath('images/3/3.5081beff-c0c7-11ed-84f0-8cc84b59e01a.jpg'), WindowsPath('images/3/3.51b97d73-c0c7-11ed-8b4a-8cc84b59e01a.jpg'), WindowsPath('images/3/3.52eecff8-c0c7-11ed-a731-8cc84b59e01a.jpg'), WindowsPath('images/4/4.2116dcf3-c0c8-11ed-a99b-8cc84b59e01a.jpg'), WindowsPath('images/4/4.224cd56f-c0c8-11ed-8123-8cc84b59e01a.jpg'), WindowsPath('images/4/4.2381f3c4-c0c8-11ed-88ba-8cc84b59e01a.jpg'), WindowsPath('images/4/4.24b6da1c-c0c8-11ed-a969-8cc84b59e01a.jpg'), WindowsPath('images/4/4.25ed750f-c0c8-11ed-8646-8cc84b59e01a.jpg'), WindowsPath('images/4/4.27244037-c0c8-11ed-ba55-8cc84b59e01a.jpg'), WindowsPath('images/4/4.285931bb-c0c8-11ed-83d9-8cc84b59e01a - Copy.jpg'), WindowsPath('images/4/4.285931bb-c0c8-11ed-83d9-8cc84b59e01a.jpg'), WindowsPath('images/4/4.2990e00b-c0c8-11ed-86da-8cc84b59e01a.jpg'), WindowsPath('images/4/4.2ac63cea-c0c8-11ed-84b9-8cc84b59e01a.jpg'), WindowsPath('images/4/4.2bfa93cf-c0c8-11ed-8152-8cc84b59e01a.jpg'), WindowsPath('images/4/4.2d301d4a-c0c8-11ed-bad5-8cc84b59e01a.jpg'), WindowsPath('images/4/4.2e6a5fd0-c0c8-11ed-b2fe-8cc84b59e01a.jpg'), WindowsPath('images/4/4.2f9ea30e-c0c8-11ed-8333-8cc84b59e01a.jpg'), WindowsPath('images/4/4.30d7aeea-c0c8-11ed-98c1-8cc84b59e01a.jpg'), WindowsPath('images/4/4.320b4ee5-c0c8-11ed-a3e5-8cc84b59e01a.jpg'), WindowsPath('images/4/4.33470521-c0c8-11ed-9f8b-8cc84b59e01a.jpg'), WindowsPath('images/4/4.34801f8d-c0c8-11ed-b53f-8cc84b59e01a.jpg'), WindowsPath('images/4/4.35b8dffb-c0c8-11ed-91ad-8cc84b59e01a.jpg'), WindowsPath('images/4/4.36f2329f-c0c8-11ed-9b8d-8cc84b59e01a.jpg'), WindowsPath('images/4/4.38271887-c0c8-11ed-a8e0-8cc84b59e01a.jpg'), WindowsPath('images/4/4.395d2267-c0c8-11ed-9612-8cc84b59e01a.jpg'), WindowsPath('images/4/4.3a91a86f-c0c8-11ed-ba25-8cc84b59e01a.jpg'), WindowsPath('images/4/4.3bc8536b-c0c8-11ed-8558-8cc84b59e01a.jpg'), WindowsPath('images/4/4.3d0102d5-c0c8-11ed-acf2-8cc84b59e01a.jpg'), WindowsPath('images/4/4.3e365b85-c0c8-11ed-bf28-8cc84b59e01a.jpg'), WindowsPath('images/4/4.3f6baa00-c0c8-11ed-b3ef-8cc84b59e01a.jpg'), WindowsPath('images/4/4.40a0c6ef-c0c8-11ed-a70b-8cc84b59e01a.jpg'), WindowsPath('images/4/4.41d4ef49-c0c8-11ed-8460-8cc84b59e01a.jpg'), WindowsPath('images/4/4.430cf729-c0c8-11ed-a075-8cc84b59e01a.jpg')]\n"
     ]
    }
   ],
   "source": [
    "directory = 'images/4'\n",
    "files = Path(directory).glob('*')\n",
    "for file in files:\n",
    "    IMAGE_FILES.append(file)\n",
    "print(IMAGE_FILES,end='\\n')"
   ]
  },
  {
   "cell_type": "code",
   "execution_count": null,
   "metadata": {},
   "outputs": [],
   "source": [
    "directory2 = 'images/1'\n",
    "files = Path(directory).glob('*')\n",
    "for file in files:\n",
    "    IMAGE_FILES.append(file)\n",
    "print(IMAGE_FILES)\n"
   ]
  }
 ],
 "metadata": {
  "kernelspec": {
   "display_name": "Python 3",
   "language": "python",
   "name": "python3"
  },
  "language_info": {
   "codemirror_mode": {
    "name": "ipython",
    "version": 3
   },
   "file_extension": ".py",
   "mimetype": "text/x-python",
   "name": "python",
   "nbconvert_exporter": "python",
   "pygments_lexer": "ipython3",
   "version": "3.10.2"
  },
  "orig_nbformat": 4
 },
 "nbformat": 4,
 "nbformat_minor": 2
}
