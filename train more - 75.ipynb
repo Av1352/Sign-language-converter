{
 "cells": [
  {
   "cell_type": "code",
   "execution_count": 1,
   "metadata": {},
   "outputs": [],
   "source": [
    "from keras.preprocessing.image import ImageDataGenerator\n",
    "from keras.datasets import mnist\n",
    "from keras.models import Sequential\n",
    "from keras.layers import Conv2D, LSTM\n",
    "from keras.layers import MaxPooling2D\n",
    "from keras.layers import Dense, Dropout, Flatten\n",
    "import matplotlib.pyplot as plt"
   ]
  },
  {
   "cell_type": "code",
   "execution_count": 2,
   "metadata": {},
   "outputs": [],
   "source": [
    "train_dir = 'output (more)/train'\n",
    "val_dir = 'output (more)/test'"
   ]
  },
  {
   "cell_type": "code",
   "execution_count": 3,
   "metadata": {},
   "outputs": [],
   "source": [
    "train_datagen = ImageDataGenerator(rescale=1./255,\n",
    "                                   shear_range=0.2,\n",
    "                                   zoom_range=0.2,\n",
    "                                   horizontal_flip=True)"
   ]
  },
  {
   "cell_type": "code",
   "execution_count": 4,
   "metadata": {},
   "outputs": [],
   "source": [
    "test_datagen = ImageDataGenerator(rescale=1./255)"
   ]
  },
  {
   "cell_type": "code",
   "execution_count": 5,
   "metadata": {},
   "outputs": [
    {
     "name": "stdout",
     "output_type": "stream",
     "text": [
      "Found 1968 images belonging to 41 classes.\n"
     ]
    }
   ],
   "source": [
    "train_generator = train_datagen.flow_from_directory(\n",
    "    train_dir,\n",
    "    target_size=(128, 128),\n",
    "    batch_size=24,\n",
    "    color_mode=\"grayscale\",\n",
    "    class_mode='categorical',\n",
    ")\n"
   ]
  },
  {
   "cell_type": "code",
   "execution_count": 6,
   "metadata": {},
   "outputs": [
    {
     "name": "stdout",
     "output_type": "stream",
     "text": [
      "Found 492 images belonging to 41 classes.\n"
     ]
    }
   ],
   "source": [
    "test_generator = test_datagen.flow_from_directory(\n",
    "    val_dir,\n",
    "    target_size=(128, 128),\n",
    "    batch_size=6,\n",
    "    color_mode=\"grayscale\",\n",
    "    class_mode='categorical'\n",
    ")\n"
   ]
  },
  {
   "cell_type": "code",
   "execution_count": 7,
   "metadata": {},
   "outputs": [],
   "source": [
    "model = Sequential()\n"
   ]
  },
  {
   "cell_type": "code",
   "execution_count": 8,
   "metadata": {},
   "outputs": [],
   "source": [
    "model.add(Conv2D(32, (3, 3),\n",
    "          activation='relu', input_shape=(128, 128, 1)))\n",
    "\n"
   ]
  },
  {
   "cell_type": "code",
   "execution_count": 9,
   "metadata": {},
   "outputs": [],
   "source": [
    "model.add(MaxPooling2D(pool_size=(2, 2)))\n"
   ]
  },
  {
   "cell_type": "code",
   "execution_count": 10,
   "metadata": {},
   "outputs": [],
   "source": [
    "model.add(Conv2D(32, (3, 3), padding=\"same\",\n",
    "          activation='relu'))\n",
    "model.add(MaxPooling2D(pool_size=(2, 2)))\n"
   ]
  },
  {
   "cell_type": "code",
   "execution_count": 11,
   "metadata": {},
   "outputs": [],
   "source": [
    "model.add(Flatten())\n"
   ]
  },
  {
   "cell_type": "code",
   "execution_count": 12,
   "metadata": {},
   "outputs": [],
   "source": [
    "model.add(Dense(128, activation='relu'))\n",
    "model.add(Dropout(0.40))\n",
    "\n",
    "model.add(Dense(96, activation='relu'))\n",
    "model.add(Dropout(0.40))\n",
    "\n",
    "model.add(Dense(64, activation='relu'))\n",
    "model.add(Dense(41, activation='softmax'))"
   ]
  },
  {
   "cell_type": "code",
   "execution_count": 13,
   "metadata": {},
   "outputs": [],
   "source": [
    "model.compile(optimizer='adam', \n",
    "            loss='categorical_crossentropy',\n",
    "            metrics=['accuracy'])\n"
   ]
  },
  {
   "cell_type": "code",
   "execution_count": 14,
   "metadata": {},
   "outputs": [
    {
     "name": "stdout",
     "output_type": "stream",
     "text": [
      "Model: \"sequential\"\n",
      "_________________________________________________________________\n",
      " Layer (type)                Output Shape              Param #   \n",
      "=================================================================\n",
      " conv2d (Conv2D)             (None, 126, 126, 32)      320       \n",
      "                                                                 \n",
      " max_pooling2d (MaxPooling2D  (None, 63, 63, 32)       0         \n",
      " )                                                               \n",
      "                                                                 \n",
      " conv2d_1 (Conv2D)           (None, 63, 63, 32)        9248      \n",
      "                                                                 \n",
      " max_pooling2d_1 (MaxPooling  (None, 31, 31, 32)       0         \n",
      " 2D)                                                             \n",
      "                                                                 \n",
      " flatten (Flatten)           (None, 30752)             0         \n",
      "                                                                 \n",
      " dense (Dense)               (None, 128)               3936384   \n",
      "                                                                 \n",
      " dropout (Dropout)           (None, 128)               0         \n",
      "                                                                 \n",
      " dense_1 (Dense)             (None, 96)                12384     \n",
      "                                                                 \n",
      " dropout_1 (Dropout)         (None, 96)                0         \n",
      "                                                                 \n",
      " dense_2 (Dense)             (None, 64)                6208      \n",
      "                                                                 \n",
      " dense_3 (Dense)             (None, 41)                2665      \n",
      "                                                                 \n",
      "=================================================================\n",
      "Total params: 3967209 (15.13 MB)\n",
      "Trainable params: 3967209 (15.13 MB)\n",
      "Non-trainable params: 0 (0.00 Byte)\n",
      "_________________________________________________________________\n"
     ]
    }
   ],
   "source": [
    "model.summary()\n"
   ]
  },
  {
   "cell_type": "code",
   "execution_count": 15,
   "metadata": {},
   "outputs": [
    {
     "name": "stdout",
     "output_type": "stream",
     "text": [
      "Epoch 1/75\n",
      "82/82 [==============================] - 115s 1s/step - loss: 3.7105 - accuracy: 0.0325 - val_loss: 3.5786 - val_accuracy: 0.0488\n",
      "Epoch 2/75\n",
      "82/82 [==============================] - 97s 1s/step - loss: 3.3261 - accuracy: 0.0645 - val_loss: 2.7736 - val_accuracy: 0.1870\n",
      "Epoch 3/75\n",
      "82/82 [==============================] - 105s 1s/step - loss: 2.7622 - accuracy: 0.1474 - val_loss: 1.8446 - val_accuracy: 0.4431\n",
      "Epoch 4/75\n",
      "82/82 [==============================] - 106s 1s/step - loss: 2.2187 - accuracy: 0.2724 - val_loss: 1.1789 - val_accuracy: 0.6382\n",
      "Epoch 5/75\n",
      "82/82 [==============================] - 103s 1s/step - loss: 1.7928 - accuracy: 0.3984 - val_loss: 0.9239 - val_accuracy: 0.7033\n",
      "Epoch 6/75\n",
      "82/82 [==============================] - 106s 1s/step - loss: 1.5245 - accuracy: 0.4695 - val_loss: 0.6764 - val_accuracy: 0.8089\n",
      "Epoch 7/75\n",
      "82/82 [==============================] - 104s 1s/step - loss: 1.3663 - accuracy: 0.5081 - val_loss: 0.6607 - val_accuracy: 0.7683\n",
      "Epoch 8/75\n",
      "82/82 [==============================] - 98s 1s/step - loss: 1.2076 - accuracy: 0.5595 - val_loss: 0.4637 - val_accuracy: 0.8740\n",
      "Epoch 9/75\n",
      "82/82 [==============================] - 92s 1s/step - loss: 1.1532 - accuracy: 0.5894 - val_loss: 0.3846 - val_accuracy: 0.8902\n",
      "Epoch 10/75\n",
      "82/82 [==============================] - 100s 1s/step - loss: 1.0096 - accuracy: 0.6387 - val_loss: 0.3769 - val_accuracy: 0.8862\n",
      "Epoch 11/75\n",
      "82/82 [==============================] - 95s 1s/step - loss: 0.9627 - accuracy: 0.6570 - val_loss: 0.3103 - val_accuracy: 0.8943\n",
      "Epoch 12/75\n",
      "82/82 [==============================] - 94s 1s/step - loss: 0.9132 - accuracy: 0.6717 - val_loss: 0.2544 - val_accuracy: 0.9309\n",
      "Epoch 13/75\n",
      "82/82 [==============================] - 95s 1s/step - loss: 0.8779 - accuracy: 0.6875 - val_loss: 0.2634 - val_accuracy: 0.9472\n",
      "Epoch 14/75\n",
      "82/82 [==============================] - 93s 1s/step - loss: 0.7683 - accuracy: 0.7226 - val_loss: 0.1969 - val_accuracy: 0.9512\n",
      "Epoch 15/75\n",
      "82/82 [==============================] - 91s 1s/step - loss: 0.8227 - accuracy: 0.6921 - val_loss: 0.2230 - val_accuracy: 0.9512\n",
      "Epoch 16/75\n",
      "82/82 [==============================] - 43s 517ms/step - loss: 0.7272 - accuracy: 0.7403 - val_loss: 0.1654 - val_accuracy: 0.9634\n",
      "Epoch 17/75\n",
      "82/82 [==============================] - 38s 462ms/step - loss: 0.6966 - accuracy: 0.7459 - val_loss: 0.1477 - val_accuracy: 0.9634\n",
      "Epoch 18/75\n",
      "82/82 [==============================] - 38s 461ms/step - loss: 0.6929 - accuracy: 0.7434 - val_loss: 0.1337 - val_accuracy: 0.9797\n",
      "Epoch 19/75\n",
      "82/82 [==============================] - 37s 452ms/step - loss: 0.6539 - accuracy: 0.7586 - val_loss: 0.1365 - val_accuracy: 0.9675\n",
      "Epoch 20/75\n",
      "82/82 [==============================] - 37s 444ms/step - loss: 0.6314 - accuracy: 0.7835 - val_loss: 0.1361 - val_accuracy: 0.9553\n",
      "Epoch 21/75\n",
      "82/82 [==============================] - 37s 448ms/step - loss: 0.6444 - accuracy: 0.7729 - val_loss: 0.1008 - val_accuracy: 0.9715\n",
      "Epoch 22/75\n",
      "82/82 [==============================] - 40s 488ms/step - loss: 0.5660 - accuracy: 0.8084 - val_loss: 0.1214 - val_accuracy: 0.9675\n",
      "Epoch 23/75\n",
      "82/82 [==============================] - 41s 506ms/step - loss: 0.5746 - accuracy: 0.8013 - val_loss: 0.1254 - val_accuracy: 0.9715\n",
      "Epoch 24/75\n",
      "82/82 [==============================] - 44s 529ms/step - loss: 0.5645 - accuracy: 0.8044 - val_loss: 0.1156 - val_accuracy: 0.9512\n",
      "Epoch 25/75\n",
      "82/82 [==============================] - 37s 446ms/step - loss: 0.4871 - accuracy: 0.8298 - val_loss: 0.0739 - val_accuracy: 0.9878\n",
      "Epoch 26/75\n",
      "82/82 [==============================] - 39s 481ms/step - loss: 0.5526 - accuracy: 0.7993 - val_loss: 0.1009 - val_accuracy: 0.9715\n",
      "Epoch 27/75\n",
      "82/82 [==============================] - 36s 439ms/step - loss: 0.4863 - accuracy: 0.8323 - val_loss: 0.0658 - val_accuracy: 0.9797\n",
      "Epoch 28/75\n",
      "82/82 [==============================] - 37s 449ms/step - loss: 0.5093 - accuracy: 0.8166 - val_loss: 0.0679 - val_accuracy: 0.9919\n",
      "Epoch 29/75\n",
      "82/82 [==============================] - 36s 434ms/step - loss: 0.4745 - accuracy: 0.8293 - val_loss: 0.0790 - val_accuracy: 0.9675\n",
      "Epoch 30/75\n",
      "82/82 [==============================] - 36s 435ms/step - loss: 0.4515 - accuracy: 0.8450 - val_loss: 0.0569 - val_accuracy: 0.9878\n",
      "Epoch 31/75\n",
      "82/82 [==============================] - 36s 434ms/step - loss: 0.4554 - accuracy: 0.8465 - val_loss: 0.0525 - val_accuracy: 0.9837\n",
      "Epoch 32/75\n",
      "82/82 [==============================] - 36s 435ms/step - loss: 0.4591 - accuracy: 0.8318 - val_loss: 0.0500 - val_accuracy: 0.9878\n",
      "Epoch 33/75\n",
      "82/82 [==============================] - 36s 439ms/step - loss: 0.4286 - accuracy: 0.8481 - val_loss: 0.0411 - val_accuracy: 0.9919\n",
      "Epoch 34/75\n",
      "82/82 [==============================] - 39s 480ms/step - loss: 0.4209 - accuracy: 0.8481 - val_loss: 0.0352 - val_accuracy: 0.9919\n",
      "Epoch 35/75\n",
      "82/82 [==============================] - 37s 446ms/step - loss: 0.4099 - accuracy: 0.8603 - val_loss: 0.0443 - val_accuracy: 0.9919\n",
      "Epoch 36/75\n",
      "82/82 [==============================] - 36s 436ms/step - loss: 0.4111 - accuracy: 0.8572 - val_loss: 0.0389 - val_accuracy: 0.9959\n",
      "Epoch 37/75\n",
      "82/82 [==============================] - 36s 438ms/step - loss: 0.3706 - accuracy: 0.8775 - val_loss: 0.0294 - val_accuracy: 0.9919\n",
      "Epoch 38/75\n",
      "82/82 [==============================] - 38s 465ms/step - loss: 0.3759 - accuracy: 0.8730 - val_loss: 0.0427 - val_accuracy: 0.9959\n",
      "Epoch 39/75\n",
      "82/82 [==============================] - 37s 450ms/step - loss: 0.3915 - accuracy: 0.8714 - val_loss: 0.0277 - val_accuracy: 0.9959\n",
      "Epoch 40/75\n",
      "82/82 [==============================] - 36s 439ms/step - loss: 0.3436 - accuracy: 0.8811 - val_loss: 0.0295 - val_accuracy: 0.9959\n",
      "Epoch 41/75\n",
      "82/82 [==============================] - 38s 457ms/step - loss: 0.3742 - accuracy: 0.8694 - val_loss: 0.0358 - val_accuracy: 0.9919\n",
      "Epoch 42/75\n",
      "82/82 [==============================] - 37s 445ms/step - loss: 0.3455 - accuracy: 0.8811 - val_loss: 0.0341 - val_accuracy: 0.9919\n",
      "Epoch 43/75\n",
      "82/82 [==============================] - 38s 462ms/step - loss: 0.3211 - accuracy: 0.8887 - val_loss: 0.0455 - val_accuracy: 0.9756\n",
      "Epoch 44/75\n",
      "82/82 [==============================] - 36s 441ms/step - loss: 0.3446 - accuracy: 0.8791 - val_loss: 0.0228 - val_accuracy: 1.0000\n",
      "Epoch 45/75\n",
      "82/82 [==============================] - 36s 442ms/step - loss: 0.3493 - accuracy: 0.8862 - val_loss: 0.0290 - val_accuracy: 0.9959\n",
      "Epoch 46/75\n",
      "82/82 [==============================] - 36s 444ms/step - loss: 0.3628 - accuracy: 0.8780 - val_loss: 0.0373 - val_accuracy: 0.9919\n",
      "Epoch 47/75\n",
      "82/82 [==============================] - 36s 433ms/step - loss: 0.3014 - accuracy: 0.8999 - val_loss: 0.0232 - val_accuracy: 0.9959\n",
      "Epoch 48/75\n",
      "82/82 [==============================] - 36s 435ms/step - loss: 0.3046 - accuracy: 0.8974 - val_loss: 0.0246 - val_accuracy: 0.9959\n",
      "Epoch 49/75\n",
      "82/82 [==============================] - 36s 433ms/step - loss: 0.3163 - accuracy: 0.8857 - val_loss: 0.0211 - val_accuracy: 0.9959\n",
      "Epoch 50/75\n",
      "82/82 [==============================] - 37s 456ms/step - loss: 0.3231 - accuracy: 0.8902 - val_loss: 0.0206 - val_accuracy: 0.9959\n",
      "Epoch 51/75\n",
      "82/82 [==============================] - 38s 468ms/step - loss: 0.3158 - accuracy: 0.8862 - val_loss: 0.0327 - val_accuracy: 0.9919\n",
      "Epoch 52/75\n",
      "82/82 [==============================] - 38s 466ms/step - loss: 0.2834 - accuracy: 0.9029 - val_loss: 0.0187 - val_accuracy: 0.9959\n",
      "Epoch 53/75\n",
      "82/82 [==============================] - 36s 439ms/step - loss: 0.2650 - accuracy: 0.9141 - val_loss: 0.0136 - val_accuracy: 0.9959\n",
      "Epoch 54/75\n",
      "82/82 [==============================] - 38s 459ms/step - loss: 0.2999 - accuracy: 0.8958 - val_loss: 0.0209 - val_accuracy: 0.9959\n",
      "Epoch 55/75\n",
      "82/82 [==============================] - 37s 452ms/step - loss: 0.2784 - accuracy: 0.9075 - val_loss: 0.0186 - val_accuracy: 0.9959\n",
      "Epoch 56/75\n",
      "82/82 [==============================] - 36s 434ms/step - loss: 0.2605 - accuracy: 0.9116 - val_loss: 0.0165 - val_accuracy: 0.9959\n",
      "Epoch 57/75\n",
      "82/82 [==============================] - 36s 433ms/step - loss: 0.2540 - accuracy: 0.9126 - val_loss: 0.0222 - val_accuracy: 0.9959\n",
      "Epoch 58/75\n",
      "82/82 [==============================] - 37s 455ms/step - loss: 0.3080 - accuracy: 0.8918 - val_loss: 0.0170 - val_accuracy: 0.9959\n",
      "Epoch 59/75\n",
      "82/82 [==============================] - 38s 467ms/step - loss: 0.2849 - accuracy: 0.9060 - val_loss: 0.0221 - val_accuracy: 0.9919\n",
      "Epoch 60/75\n",
      "82/82 [==============================] - 37s 445ms/step - loss: 0.3023 - accuracy: 0.9029 - val_loss: 0.0294 - val_accuracy: 0.9919\n",
      "Epoch 61/75\n",
      "82/82 [==============================] - 37s 448ms/step - loss: 0.2820 - accuracy: 0.9060 - val_loss: 0.0288 - val_accuracy: 0.9878\n",
      "Epoch 62/75\n",
      "82/82 [==============================] - 36s 436ms/step - loss: 0.2608 - accuracy: 0.9106 - val_loss: 0.0136 - val_accuracy: 0.9959\n",
      "Epoch 63/75\n",
      "82/82 [==============================] - 36s 441ms/step - loss: 0.2618 - accuracy: 0.9106 - val_loss: 0.0181 - val_accuracy: 0.9959\n",
      "Epoch 64/75\n",
      "82/82 [==============================] - 36s 443ms/step - loss: 0.2807 - accuracy: 0.9070 - val_loss: 0.0237 - val_accuracy: 0.9959\n",
      "Epoch 65/75\n",
      "82/82 [==============================] - 37s 450ms/step - loss: 0.2702 - accuracy: 0.9136 - val_loss: 0.0131 - val_accuracy: 0.9959\n",
      "Epoch 66/75\n",
      "82/82 [==============================] - 38s 465ms/step - loss: 0.2587 - accuracy: 0.9126 - val_loss: 0.0213 - val_accuracy: 0.9959\n",
      "Epoch 67/75\n",
      "82/82 [==============================] - 41s 493ms/step - loss: 0.2445 - accuracy: 0.9192 - val_loss: 0.0116 - val_accuracy: 0.9959\n",
      "Epoch 68/75\n",
      "82/82 [==============================] - 37s 454ms/step - loss: 0.2431 - accuracy: 0.9223 - val_loss: 0.0151 - val_accuracy: 0.9959\n",
      "Epoch 69/75\n",
      "82/82 [==============================] - 38s 466ms/step - loss: 0.2478 - accuracy: 0.9116 - val_loss: 0.0102 - val_accuracy: 0.9959\n",
      "Epoch 70/75\n",
      "82/82 [==============================] - 45s 544ms/step - loss: 0.2602 - accuracy: 0.9177 - val_loss: 0.0112 - val_accuracy: 0.9959\n",
      "Epoch 71/75\n",
      "82/82 [==============================] - 45s 546ms/step - loss: 0.2252 - accuracy: 0.9263 - val_loss: 0.0062 - val_accuracy: 1.0000\n",
      "Epoch 72/75\n",
      "82/82 [==============================] - 55s 671ms/step - loss: 0.2503 - accuracy: 0.9141 - val_loss: 0.0138 - val_accuracy: 0.9959\n",
      "Epoch 73/75\n",
      "82/82 [==============================] - 67s 817ms/step - loss: 0.2347 - accuracy: 0.9253 - val_loss: 0.0180 - val_accuracy: 0.9959\n",
      "Epoch 74/75\n",
      "82/82 [==============================] - 70s 846ms/step - loss: 0.2221 - accuracy: 0.9217 - val_loss: 0.0166 - val_accuracy: 0.9959\n",
      "Epoch 75/75\n",
      "82/82 [==============================] - 65s 795ms/step - loss: 0.2440 - accuracy: 0.9146 - val_loss: 0.0078 - val_accuracy: 0.9959\n"
     ]
    }
   ],
   "source": [
    "history = model.fit(train_generator,\n",
    "                    epochs=75,\n",
    "                    validation_data=test_generator)\n"
   ]
  },
  {
   "cell_type": "code",
   "execution_count": 16,
   "metadata": {},
   "outputs": [
    {
     "name": "stdout",
     "output_type": "stream",
     "text": [
      "Model Saved\n",
      "Weights saved\n"
     ]
    }
   ],
   "source": [
    "model_json = model.to_json()\n",
    "with open(\"model_new.json\", \"w\") as json_file:\n",
    "    json_file.write(model_json)\n",
    "print('Model Saved')\n",
    "model.save_weights('model_updated.h5')\n",
    "print('Weights saved')\n"
   ]
  },
  {
   "cell_type": "code",
   "execution_count": 17,
   "metadata": {},
   "outputs": [],
   "source": [
    "(X_train, y_train), (X_test, y_test) = mnist.load_data()\n"
   ]
  },
  {
   "attachments": {},
   "cell_type": "markdown",
   "metadata": {},
   "source": [
    "Visualizing loss"
   ]
  },
  {
   "cell_type": "code",
   "execution_count": 18,
   "metadata": {},
   "outputs": [
    {
     "data": {
      "text/plain": [
       "Text(0.5, 1.0, 'Loss Curves')"
      ]
     },
     "execution_count": 18,
     "metadata": {},
     "output_type": "execute_result"
    },
    {
     "data": {
      "image/png": "[encoded data removed]",
      "text/plain": [
       "<Figure size 576x432 with 1 Axes>"
      ]
     },
     "metadata": {
      "needs_background": "light"
     },
     "output_type": "display_data"
    }
   ],
   "source": [
    "plt.figure(figsize=[8, 6])\n",
    "plt.plot(history.history['loss'], 'r', linewidth=2.0)\n",
    "plt.plot(history.history['val_loss'], 'b', linewidth=2.0)\n",
    "plt.legend(['Training loss', 'Validation Loss'], fontsize=15)\n",
    "plt.xlabel('Epochs ', fontsize=16)\n",
    "plt.ylabel('Loss', fontsize=16)\n",
    "plt.title('Loss Curves', fontsize=16)\n"
   ]
  },
  {
   "attachments": {},
   "cell_type": "markdown",
   "metadata": {},
   "source": [
    "Visualizing accuracy"
   ]
  },
  {
   "cell_type": "code",
   "execution_count": 19,
   "metadata": {},
   "outputs": [
    {
     "data": {
      "text/plain": [
       "Text(0.5, 1.0, 'Accuracy Curves')"
      ]
     },
     "execution_count": 19,
     "metadata": {},
     "output_type": "execute_result"
    },
    {
     "data": {
      "image/png": "[encoded data removed]",
      "text/plain": [
       "<Figure size 576x432 with 1 Axes>"
      ]
     },
     "metadata": {
      "needs_background": "light"
     },
     "output_type": "display_data"
    }
   ],
   "source": [
    "plt.figure(figsize=[8, 6])\n",
    "plt.plot(history.history['accuracy'], 'r', linewidth=2.0)\n",
    "plt.plot(history.history['val_accuracy'], 'b', linewidth=2.0)\n",
    "plt.legend(['Training Accuracy', 'Validation Accuracy'], fontsize=15)\n",
    "plt.xlabel('Epochs ', fontsize=16)\n",
    "plt.ylabel('Accuracy', fontsize=16)\n",
    "plt.title('Accuracy Curves', fontsize=16)\n"
   ]
  }
 ],
 "metadata": {
  "kernelspec": {
   "display_name": "Python 3.11.0 64-bit",
   "language": "python",
   "name": "python3"
  },
  "language_info": {
   "codemirror_mode": {
    "name": "ipython",
    "version": 3
   },
   "file_extension": ".py",
   "mimetype": "text/x-python",
   "name": "python",
   "nbconvert_exporter": "python",
   "pygments_lexer": "ipython3",
   "version": "3.10.2"
  },
  "orig_nbformat": 4,
  "vscode": {
   "interpreter": {
    "hash": "adbf25f6057a8929f58a5c88decc278f2bc49a76e25f3de3b15f2a6ee5d3b1b8"
   }
  }
 },
 "nbformat": 4,
 "nbformat_minor": 2
}
