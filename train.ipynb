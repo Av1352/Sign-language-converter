{
 "cells": [
  {
   "cell_type": "code",
   "execution_count": 1,
   "metadata": {},
   "outputs": [],
   "source": [
    "from keras.preprocessing.image import ImageDataGenerator\n",
    "from keras.datasets import mnist\n",
    "from keras.models import Sequential\n",
    "from keras.layers import Conv2D, LSTM\n",
    "from keras.layers import MaxPooling2D\n",
    "from keras.layers import Dense, Dropout, Flatten\n",
    "import matplotlib as plt"
   ]
  },
  {
   "cell_type": "code",
   "execution_count": 2,
   "metadata": {},
   "outputs": [],
   "source": [
    "train_dir = 'output/train'\n",
    "val_dir = 'output/test'\n"
   ]
  },
  {
   "cell_type": "code",
   "execution_count": 3,
   "metadata": {},
   "outputs": [],
   "source": [
    "train_datagen = ImageDataGenerator(rescale=1./255,\n",
    "                                   shear_range=0.2,\n",
    "                                   zoom_range=0.2,\n",
    "                                   horizontal_flip=True)"
   ]
  },
  {
   "cell_type": "code",
   "execution_count": 4,
   "metadata": {},
   "outputs": [],
   "source": [
    "test_datagen = ImageDataGenerator(rescale=1./255)"
   ]
  },
  {
   "cell_type": "code",
   "execution_count": 5,
   "metadata": {},
   "outputs": [
    {
     "name": "stdout",
     "output_type": "stream",
     "text": [
      "Found 984 images belonging to 41 classes.\n"
     ]
    }
   ],
   "source": [
    "train_generator = train_datagen.flow_from_directory(\n",
    "    train_dir,\n",
    "    target_size=(128, 128),\n",
    "    batch_size=24,\n",
    "    color_mode=\"grayscale\",\n",
    "    class_mode='categorical',\n",
    ")\n"
   ]
  },
  {
   "cell_type": "code",
   "execution_count": 6,
   "metadata": {},
   "outputs": [
    {
     "name": "stdout",
     "output_type": "stream",
     "text": [
      "Found 246 images belonging to 41 classes.\n"
     ]
    }
   ],
   "source": [
    "test_generator = test_datagen.flow_from_directory(\n",
    "    val_dir,\n",
    "    target_size=(128, 128),\n",
    "    batch_size=6,\n",
    "    color_mode=\"grayscale\",\n",
    "    class_mode='categorical'\n",
    ")\n"
   ]
  },
  {
   "cell_type": "code",
   "execution_count": 7,
   "metadata": {},
   "outputs": [],
   "source": [
    "model = Sequential()\n"
   ]
  },
  {
   "cell_type": "code",
   "execution_count": 9,
   "metadata": {},
   "outputs": [],
   "source": [
    "model.add(Conv2D(32, (3, 3),\n",
    "          activation='relu', input_shape=(128, 128, 1)))\n",
    "\n"
   ]
  },
  {
   "cell_type": "code",
   "execution_count": 10,
   "metadata": {},
   "outputs": [],
   "source": [
    "model.add(MaxPooling2D(pool_size=(2, 2)))\n"
   ]
  },
  {
   "cell_type": "code",
   "execution_count": 11,
   "metadata": {},
   "outputs": [],
   "source": [
    "model.add(Conv2D(32, (3, 3), padding=\"same\",\n",
    "          activation='relu'))\n",
    "model.add(MaxPooling2D(pool_size=(2, 2)))\n"
   ]
  },
  {
   "cell_type": "code",
   "execution_count": 12,
   "metadata": {},
   "outputs": [],
   "source": [
    "model.add(Flatten())\n"
   ]
  },
  {
   "cell_type": "code",
   "execution_count": 13,
   "metadata": {},
   "outputs": [],
   "source": [
    "model.add(Dense(128, activation='relu'))\n",
    "model.add(Dropout(0.40))\n",
    "\n",
    "model.add(Dense(96, activation='relu'))\n",
    "model.add(Dropout(0.40))\n",
    "\n",
    "model.add(Dense(64, activation='relu'))\n",
    "model.add(Dense(41, activation='softmax'))"
   ]
  },
  {
   "cell_type": "code",
   "execution_count": 14,
   "metadata": {},
   "outputs": [],
   "source": [
    "model.compile(optimizer='adam', \n",
    "            loss='categorical_crossentropy',\n",
    "            metrics=['accuracy'])\n"
   ]
  },
  {
   "cell_type": "code",
   "execution_count": 15,
   "metadata": {},
   "outputs": [
    {
     "name": "stdout",
     "output_type": "stream",
     "text": [
      "Model: \"sequential\"\n",
      "_________________________________________________________________\n",
      " Layer (type)                Output Shape              Param #   \n",
      "=================================================================\n",
      " conv2d (Conv2D)             (None, 126, 126, 32)      320       \n",
      "                                                                 \n",
      " max_pooling2d (MaxPooling2D  (None, 63, 63, 32)       0         \n",
      " )                                                               \n",
      "                                                                 \n",
      " conv2d_1 (Conv2D)           (None, 63, 63, 32)        9248      \n",
      "                                                                 \n",
      " max_pooling2d_1 (MaxPooling  (None, 31, 31, 32)       0         \n",
      " 2D)                                                             \n",
      "                                                                 \n",
      " flatten (Flatten)           (None, 30752)             0         \n",
      "                                                                 \n",
      " dense (Dense)               (None, 128)               3936384   \n",
      "                                                                 \n",
      " dropout (Dropout)           (None, 128)               0         \n",
      "                                                                 \n",
      " dense_1 (Dense)             (None, 96)                12384     \n",
      "                                                                 \n",
      " dropout_1 (Dropout)         (None, 96)                0         \n",
      "                                                                 \n",
      " dense_2 (Dense)             (None, 64)                6208      \n",
      "                                                                 \n",
      " dense_3 (Dense)             (None, 41)                2665      \n",
      "                                                                 \n",
      "=================================================================\n",
      "Total params: 3967209 (15.13 MB)\n",
      "Trainable params: 3967209 (15.13 MB)\n",
      "Non-trainable params: 0 (0.00 Byte)\n",
      "_________________________________________________________________\n"
     ]
    }
   ],
   "source": [
    "model.summary()\n"
   ]
  },
  {
   "cell_type": "code",
   "execution_count": 18,
   "metadata": {},
   "outputs": [
    {
     "name": "stdout",
     "output_type": "stream",
     "text": [
      "Epoch 1/75\n",
      "41/41 [==============================] - 19s 474ms/step - loss: 0.5982 - accuracy: 0.7774 - val_loss: 0.0549 - val_accuracy: 0.9959\n",
      "Epoch 2/75\n",
      "41/41 [==============================] - 18s 437ms/step - loss: 0.5548 - accuracy: 0.8140 - val_loss: 0.0620 - val_accuracy: 0.9837\n",
      "Epoch 3/75\n",
      "41/41 [==============================] - 20s 482ms/step - loss: 0.5107 - accuracy: 0.8323 - val_loss: 0.0434 - val_accuracy: 0.9959\n",
      "Epoch 4/75\n",
      "41/41 [==============================] - 18s 436ms/step - loss: 0.5367 - accuracy: 0.8211 - val_loss: 0.0509 - val_accuracy: 0.9837\n",
      "Epoch 5/75\n",
      "41/41 [==============================] - 18s 434ms/step - loss: 0.4998 - accuracy: 0.8262 - val_loss: 0.0457 - val_accuracy: 0.9919\n",
      "Epoch 6/75\n",
      "41/41 [==============================] - 18s 429ms/step - loss: 0.5784 - accuracy: 0.8201 - val_loss: 0.0565 - val_accuracy: 0.9919\n",
      "Epoch 7/75\n",
      "41/41 [==============================] - 18s 441ms/step - loss: 0.5450 - accuracy: 0.8100 - val_loss: 0.0404 - val_accuracy: 0.9959\n",
      "Epoch 8/75\n",
      "41/41 [==============================] - 21s 500ms/step - loss: 0.4768 - accuracy: 0.8374 - val_loss: 0.0343 - val_accuracy: 0.9919\n",
      "Epoch 9/75\n",
      "41/41 [==============================] - 22s 543ms/step - loss: 0.4867 - accuracy: 0.8465 - val_loss: 0.0350 - val_accuracy: 1.0000\n",
      "Epoch 10/75\n",
      "41/41 [==============================] - 22s 544ms/step - loss: 0.5073 - accuracy: 0.8262 - val_loss: 0.0356 - val_accuracy: 0.9919\n",
      "Epoch 11/75\n",
      "41/41 [==============================] - 22s 538ms/step - loss: 0.4555 - accuracy: 0.8404 - val_loss: 0.0301 - val_accuracy: 1.0000\n",
      "Epoch 12/75\n",
      "41/41 [==============================] - 23s 547ms/step - loss: 0.5146 - accuracy: 0.8333 - val_loss: 0.0349 - val_accuracy: 0.9919\n",
      "Epoch 13/75\n",
      "41/41 [==============================] - 22s 521ms/step - loss: 0.5097 - accuracy: 0.8161 - val_loss: 0.0399 - val_accuracy: 0.9919\n",
      "Epoch 14/75\n",
      "41/41 [==============================] - 22s 525ms/step - loss: 0.5155 - accuracy: 0.8293 - val_loss: 0.0247 - val_accuracy: 1.0000\n",
      "Epoch 15/75\n",
      "41/41 [==============================] - 22s 522ms/step - loss: 0.4717 - accuracy: 0.8313 - val_loss: 0.0269 - val_accuracy: 1.0000\n",
      "Epoch 16/75\n",
      "41/41 [==============================] - 22s 530ms/step - loss: 0.4934 - accuracy: 0.8425 - val_loss: 0.0286 - val_accuracy: 0.9959\n",
      "Epoch 17/75\n",
      "41/41 [==============================] - 22s 538ms/step - loss: 0.4854 - accuracy: 0.8303 - val_loss: 0.0342 - val_accuracy: 0.9919\n",
      "Epoch 18/75\n",
      "41/41 [==============================] - 22s 524ms/step - loss: 0.4728 - accuracy: 0.8323 - val_loss: 0.0296 - val_accuracy: 1.0000\n",
      "Epoch 19/75\n",
      "41/41 [==============================] - 21s 519ms/step - loss: 0.5196 - accuracy: 0.8191 - val_loss: 0.0248 - val_accuracy: 1.0000\n",
      "Epoch 20/75\n",
      "41/41 [==============================] - 22s 524ms/step - loss: 0.4690 - accuracy: 0.8445 - val_loss: 0.0198 - val_accuracy: 1.0000\n",
      "Epoch 21/75\n",
      "41/41 [==============================] - 23s 549ms/step - loss: 0.4432 - accuracy: 0.8384 - val_loss: 0.0278 - val_accuracy: 0.9959\n",
      "Epoch 22/75\n",
      "41/41 [==============================] - 22s 523ms/step - loss: 0.4293 - accuracy: 0.8587 - val_loss: 0.0352 - val_accuracy: 0.9919\n",
      "Epoch 23/75\n",
      "41/41 [==============================] - 21s 517ms/step - loss: 0.4889 - accuracy: 0.8313 - val_loss: 0.0241 - val_accuracy: 0.9959\n",
      "Epoch 24/75\n",
      "41/41 [==============================] - 22s 519ms/step - loss: 0.4835 - accuracy: 0.8293 - val_loss: 0.0180 - val_accuracy: 0.9959\n",
      "Epoch 25/75\n",
      "41/41 [==============================] - 22s 523ms/step - loss: 0.4421 - accuracy: 0.8526 - val_loss: 0.0358 - val_accuracy: 0.9837\n",
      "Epoch 26/75\n",
      "41/41 [==============================] - 22s 520ms/step - loss: 0.4553 - accuracy: 0.8404 - val_loss: 0.0277 - val_accuracy: 0.9959\n",
      "Epoch 27/75\n",
      "41/41 [==============================] - 22s 529ms/step - loss: 0.4447 - accuracy: 0.8537 - val_loss: 0.0324 - val_accuracy: 0.9959\n",
      "Epoch 28/75\n",
      "41/41 [==============================] - 22s 523ms/step - loss: 0.4214 - accuracy: 0.8577 - val_loss: 0.0220 - val_accuracy: 0.9959\n",
      "Epoch 29/75\n",
      "41/41 [==============================] - 22s 526ms/step - loss: 0.4065 - accuracy: 0.8608 - val_loss: 0.0189 - val_accuracy: 1.0000\n",
      "Epoch 30/75\n",
      "41/41 [==============================] - 22s 522ms/step - loss: 0.3960 - accuracy: 0.8760 - val_loss: 0.0229 - val_accuracy: 0.9959\n",
      "Epoch 31/75\n",
      "41/41 [==============================] - 22s 539ms/step - loss: 0.3695 - accuracy: 0.8648 - val_loss: 0.0235 - val_accuracy: 0.9959\n",
      "Epoch 32/75\n",
      "41/41 [==============================] - 21s 503ms/step - loss: 0.4126 - accuracy: 0.8608 - val_loss: 0.0220 - val_accuracy: 1.0000\n",
      "Epoch 33/75\n",
      "41/41 [==============================] - 19s 457ms/step - loss: 0.4133 - accuracy: 0.8577 - val_loss: 0.0227 - val_accuracy: 0.9959\n",
      "Epoch 34/75\n",
      "41/41 [==============================] - 17s 416ms/step - loss: 0.3483 - accuracy: 0.8780 - val_loss: 0.0258 - val_accuracy: 1.0000\n",
      "Epoch 35/75\n",
      "41/41 [==============================] - 18s 428ms/step - loss: 0.3500 - accuracy: 0.8852 - val_loss: 0.0343 - val_accuracy: 0.9878\n",
      "Epoch 36/75\n",
      "41/41 [==============================] - 18s 442ms/step - loss: 0.3813 - accuracy: 0.8689 - val_loss: 0.0215 - val_accuracy: 0.9959\n",
      "Epoch 37/75\n",
      "41/41 [==============================] - 18s 443ms/step - loss: 0.4304 - accuracy: 0.8445 - val_loss: 0.0251 - val_accuracy: 0.9919\n",
      "Epoch 38/75\n",
      "41/41 [==============================] - 18s 425ms/step - loss: 0.3734 - accuracy: 0.8679 - val_loss: 0.0210 - val_accuracy: 0.9959\n",
      "Epoch 39/75\n",
      "41/41 [==============================] - 17s 420ms/step - loss: 0.3155 - accuracy: 0.8852 - val_loss: 0.0128 - val_accuracy: 1.0000\n",
      "Epoch 40/75\n",
      "41/41 [==============================] - 17s 420ms/step - loss: 0.3947 - accuracy: 0.8669 - val_loss: 0.0119 - val_accuracy: 1.0000\n",
      "Epoch 41/75\n",
      "41/41 [==============================] - 17s 420ms/step - loss: 0.3456 - accuracy: 0.8811 - val_loss: 0.0133 - val_accuracy: 0.9959\n",
      "Epoch 42/75\n",
      "41/41 [==============================] - 17s 413ms/step - loss: 0.3535 - accuracy: 0.8852 - val_loss: 0.0151 - val_accuracy: 0.9959\n",
      "Epoch 43/75\n",
      "41/41 [==============================] - 17s 406ms/step - loss: 0.3344 - accuracy: 0.8933 - val_loss: 0.0129 - val_accuracy: 0.9959\n",
      "Epoch 44/75\n",
      "41/41 [==============================] - 18s 436ms/step - loss: 0.3862 - accuracy: 0.8679 - val_loss: 0.0257 - val_accuracy: 0.9959\n",
      "Epoch 45/75\n",
      "41/41 [==============================] - 17s 419ms/step - loss: 0.3622 - accuracy: 0.8841 - val_loss: 0.0084 - val_accuracy: 1.0000\n",
      "Epoch 46/75\n",
      "41/41 [==============================] - 18s 428ms/step - loss: 0.3762 - accuracy: 0.8720 - val_loss: 0.0137 - val_accuracy: 1.0000\n",
      "Epoch 47/75\n",
      "41/41 [==============================] - 17s 421ms/step - loss: 0.3731 - accuracy: 0.8841 - val_loss: 0.0297 - val_accuracy: 0.9919\n",
      "Epoch 48/75\n",
      "41/41 [==============================] - 18s 427ms/step - loss: 0.3653 - accuracy: 0.8811 - val_loss: 0.0140 - val_accuracy: 0.9959\n",
      "Epoch 49/75\n",
      "41/41 [==============================] - 19s 474ms/step - loss: 0.3639 - accuracy: 0.8699 - val_loss: 0.0123 - val_accuracy: 1.0000\n",
      "Epoch 50/75\n",
      "41/41 [==============================] - 21s 517ms/step - loss: 0.3638 - accuracy: 0.8821 - val_loss: 0.0133 - val_accuracy: 0.9919\n",
      "Epoch 51/75\n",
      "41/41 [==============================] - 18s 429ms/step - loss: 0.3352 - accuracy: 0.8913 - val_loss: 0.0126 - val_accuracy: 0.9959\n",
      "Epoch 52/75\n",
      "41/41 [==============================] - 18s 427ms/step - loss: 0.3227 - accuracy: 0.8892 - val_loss: 0.0097 - val_accuracy: 1.0000\n",
      "Epoch 53/75\n",
      "41/41 [==============================] - 17s 412ms/step - loss: 0.3671 - accuracy: 0.8740 - val_loss: 0.0076 - val_accuracy: 1.0000\n",
      "Epoch 54/75\n",
      "41/41 [==============================] - 17s 422ms/step - loss: 0.3240 - accuracy: 0.8872 - val_loss: 0.0088 - val_accuracy: 1.0000\n",
      "Epoch 55/75\n",
      "41/41 [==============================] - 18s 435ms/step - loss: 0.3124 - accuracy: 0.8943 - val_loss: 0.0137 - val_accuracy: 0.9919\n",
      "Epoch 56/75\n",
      "41/41 [==============================] - 17s 419ms/step - loss: 0.3493 - accuracy: 0.8902 - val_loss: 0.0067 - val_accuracy: 1.0000\n",
      "Epoch 57/75\n",
      "41/41 [==============================] - 17s 416ms/step - loss: 0.3293 - accuracy: 0.8831 - val_loss: 0.0118 - val_accuracy: 1.0000\n",
      "Epoch 58/75\n",
      "41/41 [==============================] - 17s 412ms/step - loss: 0.3282 - accuracy: 0.8933 - val_loss: 0.0082 - val_accuracy: 1.0000\n",
      "Epoch 59/75\n",
      "41/41 [==============================] - 17s 410ms/step - loss: 0.3469 - accuracy: 0.8821 - val_loss: 0.0064 - val_accuracy: 1.0000\n",
      "Epoch 60/75\n",
      "41/41 [==============================] - 17s 416ms/step - loss: 0.2659 - accuracy: 0.9065 - val_loss: 0.0056 - val_accuracy: 1.0000\n",
      "Epoch 61/75\n",
      "41/41 [==============================] - 18s 429ms/step - loss: 0.3154 - accuracy: 0.8974 - val_loss: 0.0076 - val_accuracy: 1.0000\n",
      "Epoch 62/75\n",
      "41/41 [==============================] - 17s 416ms/step - loss: 0.2802 - accuracy: 0.9004 - val_loss: 0.0045 - val_accuracy: 1.0000\n",
      "Epoch 63/75\n",
      "41/41 [==============================] - 17s 408ms/step - loss: 0.3404 - accuracy: 0.8953 - val_loss: 0.0051 - val_accuracy: 1.0000\n",
      "Epoch 64/75\n",
      "41/41 [==============================] - 17s 419ms/step - loss: 0.3292 - accuracy: 0.8943 - val_loss: 0.0033 - val_accuracy: 1.0000\n",
      "Epoch 65/75\n",
      "41/41 [==============================] - 17s 413ms/step - loss: 0.2716 - accuracy: 0.9146 - val_loss: 0.0036 - val_accuracy: 1.0000\n",
      "Epoch 66/75\n",
      "41/41 [==============================] - 17s 412ms/step - loss: 0.2854 - accuracy: 0.9106 - val_loss: 0.0038 - val_accuracy: 1.0000\n",
      "Epoch 67/75\n",
      "41/41 [==============================] - 17s 409ms/step - loss: 0.3365 - accuracy: 0.8831 - val_loss: 0.0065 - val_accuracy: 1.0000\n",
      "Epoch 68/75\n",
      "41/41 [==============================] - 17s 408ms/step - loss: 0.3162 - accuracy: 0.8933 - val_loss: 0.0052 - val_accuracy: 1.0000\n",
      "Epoch 69/75\n",
      "41/41 [==============================] - 18s 426ms/step - loss: 0.3498 - accuracy: 0.8862 - val_loss: 0.0086 - val_accuracy: 1.0000\n",
      "Epoch 70/75\n",
      "41/41 [==============================] - 19s 451ms/step - loss: 0.2737 - accuracy: 0.9146 - val_loss: 0.0032 - val_accuracy: 1.0000\n",
      "Epoch 71/75\n",
      "41/41 [==============================] - 19s 461ms/step - loss: 0.3342 - accuracy: 0.8872 - val_loss: 0.0067 - val_accuracy: 1.0000\n",
      "Epoch 72/75\n",
      "41/41 [==============================] - 18s 432ms/step - loss: 0.2868 - accuracy: 0.8974 - val_loss: 0.0053 - val_accuracy: 1.0000\n",
      "Epoch 73/75\n",
      "41/41 [==============================] - 17s 409ms/step - loss: 0.2546 - accuracy: 0.9116 - val_loss: 0.0049 - val_accuracy: 1.0000\n",
      "Epoch 74/75\n",
      "41/41 [==============================] - 17s 412ms/step - loss: 0.2684 - accuracy: 0.9096 - val_loss: 0.0050 - val_accuracy: 1.0000\n",
      "Epoch 75/75\n",
      "41/41 [==============================] - 18s 427ms/step - loss: 0.2879 - accuracy: 0.9085 - val_loss: 0.0054 - val_accuracy: 1.0000\n"
     ]
    }
   ],
   "source": [
    "history = model.fit(train_generator,\n",
    "                    epochs=75,\n",
    "                    validation_data=test_generator)\n"
   ]
  },
  {
   "cell_type": "code",
   "execution_count": 19,
   "metadata": {},
   "outputs": [
    {
     "name": "stdout",
     "output_type": "stream",
     "text": [
      "Model Saved\n",
      "Weights saved\n"
     ]
    }
   ],
   "source": [
    "model_json = model.to_json()\n",
    "with open(\"model.json\", \"w\") as json_file:\n",
    "    json_file.write(model_json)\n",
    "print('Model Saved')\n",
    "model.save_weights('model_new.h5')\n",
    "print('Weights saved')\n"
   ]
  }
 ],
 "metadata": {
  "kernelspec": {
   "display_name": "Python 3",
   "language": "python",
   "name": "python3"
  },
  "language_info": {
   "codemirror_mode": {
    "name": "ipython",
    "version": 3
   },
   "file_extension": ".py",
   "mimetype": "text/x-python",
   "name": "python",
   "nbconvert_exporter": "python",
   "pygments_lexer": "ipython3",
   "version": "3.10.2"
  },
  "orig_nbformat": 4
 },
 "nbformat": 4,
 "nbformat_minor": 2
}
