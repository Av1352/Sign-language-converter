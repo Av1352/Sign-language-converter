{
 "cells": [
  {
   "cell_type": "code",
   "execution_count": 2,
   "metadata": {},
   "outputs": [],
   "source": [
    "import cv2\n",
    "import numpy as np\n",
    "import os\n",
    "from matplotlib import pyplot as plt\n",
    "import time\n",
    "# import mediapipe as mp\n",
    "import uuid"
   ]
  },
  {
   "cell_type": "code",
   "execution_count": 43,
   "metadata": {},
   "outputs": [],
   "source": [
    "# DATA_PATH = os.path.join('MP_Data')\n",
    "IMAGES_PATH = 'data/images'\n",
    "actions_numbers = np.array(['1', '2', '3', '4', '5', '6', '7', '8', '9'])\n",
    "actions_letters = np.array(['A', 'B', 'C', 'D', 'E', 'F', 'G', 'H', 'I', 'J', 'K', 'L', \n",
    "                            'M', 'N', 'O', 'P', 'Q', 'R', 'S', 'T', 'U', 'V', 'W', 'X', 'Y', 'Z'])\n",
    "actions_words = np.array(['hello', 'yes', 'no', 'please', 'sorry', 'thanks'])\n",
    "                    \n",
    "no_sequences = 30\n",
    "# sequence_length = 30 #frame_length"
   ]
  },
  {
   "cell_type": "code",
   "execution_count": null,
   "metadata": {},
   "outputs": [],
   "source": [
    "# for action in actions_words:\n",
    "#     for sequence in range(no_sequences):\n",
    "#         try:\n",
    "#             os.makedirs(os.path.join(DATA_PATH, action, str(sequence)))\n",
    "#         except:\n",
    "#             pass"
   ]
  },
  {
   "cell_type": "code",
   "execution_count": 49,
   "metadata": {},
   "outputs": [
    {
     "name": "stdout",
     "output_type": "stream",
     "text": [
      "1230\n"
     ]
    }
   ],
   "source": [
    "print((len(actions_numbers) + len(actions_letters) + len(actions_words)) * no_sequences)"
   ]
  },
  {
   "attachments": {},
   "cell_type": "markdown",
   "metadata": {},
   "source": [
    "Collecting keypoints"
   ]
  },
  {
   "cell_type": "code",
   "execution_count": 51,
   "metadata": {},
   "outputs": [
    {
     "name": "stderr",
     "output_type": "stream",
     "text": [
      "A subdirectory or file data\\images\\5 already exists.\n"
     ]
    },
    {
     "ename": "KeyboardInterrupt",
     "evalue": "",
     "output_type": "error",
     "traceback": [
      "\u001b[1;31m---------------------------------------------------------------------------\u001b[0m",
      "\u001b[1;31mKeyboardInterrupt\u001b[0m                         Traceback (most recent call last)",
      "\u001b[1;32mc:\\Users\\anjuv\\Documents\\GitHub\\Sign-language-converter\\main.ipynb Cell 6\u001b[0m in \u001b[0;36m<module>\u001b[1;34m\u001b[0m\n\u001b[0;32m      <a href='vscode-notebook-cell:/c%3A/Users/anjuv/Documents/GitHub/Sign-language-converter/main.ipynb#X51sZmlsZQ%3D%3D?line=0'>1</a>\u001b[0m \u001b[39mfor\u001b[39;00m action \u001b[39min\u001b[39;00m actions_numbers[\u001b[39m4\u001b[39m]:\n\u001b[0;32m      <a href='vscode-notebook-cell:/c%3A/Users/anjuv/Documents/GitHub/Sign-language-converter/main.ipynb#X51sZmlsZQ%3D%3D?line=1'>2</a>\u001b[0m     get_ipython()\u001b[39m.\u001b[39msystem(\u001b[39m\"\u001b[39m\u001b[39mmkdir \u001b[39m\u001b[39m{\u001b[39m\u001b[39m'\u001b[39m\u001b[39mdata\u001b[39m\u001b[39m\\\\\u001b[39;00m\u001b[39mimages\u001b[39m\u001b[39m\\\\\u001b[39;00m\u001b[39m\\\\\u001b[39;00m\u001b[39m'\u001b[39m\u001b[39m+action}\u001b[39m\u001b[39m\"\u001b[39m)\n\u001b[1;32m----> <a href='vscode-notebook-cell:/c%3A/Users/anjuv/Documents/GitHub/Sign-language-converter/main.ipynb#X51sZmlsZQ%3D%3D?line=2'>3</a>\u001b[0m     cap \u001b[39m=\u001b[39m cv2\u001b[39m.\u001b[39;49mVideoCapture(\u001b[39m0\u001b[39;49m)\n\u001b[0;32m      <a href='vscode-notebook-cell:/c%3A/Users/anjuv/Documents/GitHub/Sign-language-converter/main.ipynb#X51sZmlsZQ%3D%3D?line=3'>4</a>\u001b[0m     \u001b[39mprint\u001b[39m(\u001b[39m'\u001b[39m\u001b[39mCollecting images for \u001b[39m\u001b[39m{}\u001b[39;00m\u001b[39m'\u001b[39m\u001b[39m.\u001b[39m \u001b[39mformat\u001b[39m(action))\n\u001b[0;32m      <a href='vscode-notebook-cell:/c%3A/Users/anjuv/Documents/GitHub/Sign-language-converter/main.ipynb#X51sZmlsZQ%3D%3D?line=4'>5</a>\u001b[0m     time\u001b[39m.\u001b[39msleep(\u001b[39m5\u001b[39m)\n",
      "\u001b[1;31mKeyboardInterrupt\u001b[0m: "
     ]
    }
   ],
   "source": [
    "for action in actions_numbers[4]:\n",
    "    !mkdir {'data\\images\\\\'+action}\n",
    "    cap = cv2.VideoCapture(0)\n",
    "    print('Collecting images for {}'. format(action))\n",
    "    time.sleep(5)\n",
    "    for imgnum in range(no_sequences):\n",
    "        ret, frame = cap.read()\n",
    "        image_name = os.path.join(IMAGES_PATH, action, action+'.'+'{}.jpg'.format(str(uuid.uuid1())))\n",
    "        cv2.imwrite(image_name,frame)\n",
    "        cv2.imshow('Frame', frame)\n",
    "        time.sleep(2)\n",
    "        if cv2.waitKey(1) & 0xFF == ord('q'):\n",
    "            break\n",
    "    cap.release()"
   ]
  },
  {
   "cell_type": "code",
   "execution_count": 46,
   "metadata": {},
   "outputs": [
    {
     "name": "stdout",
     "output_type": "stream",
     "text": [
      "Collecting images for thanks\n"
     ]
    },
    {
     "name": "stderr",
     "output_type": "stream",
     "text": [
      "A subdirectory or file data\\images\\thanks already exists.\n"
     ]
    },
    {
     "name": "stdout",
     "output_type": "stream",
     "text": [
      "Collecting images for thanks\n"
     ]
    },
    {
     "ename": "KeyboardInterrupt",
     "evalue": "",
     "output_type": "error",
     "traceback": [
      "\u001b[1;31m---------------------------------------------------------------------------\u001b[0m",
      "\u001b[1;31mKeyboardInterrupt\u001b[0m                         Traceback (most recent call last)",
      "\u001b[1;32mc:\\Users\\anjuv\\Documents\\GitHub\\Sign-language-converter\\main.ipynb Cell 6\u001b[0m in \u001b[0;36m<module>\u001b[1;34m\u001b[0m\n\u001b[0;32m      <a href='vscode-notebook-cell:/c%3A/Users/anjuv/Documents/GitHub/Sign-language-converter/main.ipynb#X52sZmlsZQ%3D%3D?line=4'>5</a>\u001b[0m time\u001b[39m.\u001b[39msleep(\u001b[39m5\u001b[39m)\n\u001b[0;32m      <a href='vscode-notebook-cell:/c%3A/Users/anjuv/Documents/GitHub/Sign-language-converter/main.ipynb#X52sZmlsZQ%3D%3D?line=5'>6</a>\u001b[0m \u001b[39mfor\u001b[39;00m imgnum \u001b[39min\u001b[39;00m \u001b[39mrange\u001b[39m(no_sequences):\n\u001b[1;32m----> <a href='vscode-notebook-cell:/c%3A/Users/anjuv/Documents/GitHub/Sign-language-converter/main.ipynb#X52sZmlsZQ%3D%3D?line=6'>7</a>\u001b[0m     ret, frame \u001b[39m=\u001b[39m cap\u001b[39m.\u001b[39;49mread()\n\u001b[0;32m      <a href='vscode-notebook-cell:/c%3A/Users/anjuv/Documents/GitHub/Sign-language-converter/main.ipynb#X52sZmlsZQ%3D%3D?line=7'>8</a>\u001b[0m     image_name \u001b[39m=\u001b[39m os\u001b[39m.\u001b[39mpath\u001b[39m.\u001b[39mjoin(\n\u001b[0;32m      <a href='vscode-notebook-cell:/c%3A/Users/anjuv/Documents/GitHub/Sign-language-converter/main.ipynb#X52sZmlsZQ%3D%3D?line=8'>9</a>\u001b[0m         IMAGES_PATH, actions_words[\u001b[39m5\u001b[39m], actions_words[\u001b[39m5\u001b[39m]\u001b[39m+\u001b[39m\u001b[39m'\u001b[39m\u001b[39m.\u001b[39m\u001b[39m'\u001b[39m\u001b[39m+\u001b[39m\u001b[39m'\u001b[39m\u001b[39m{}\u001b[39;00m\u001b[39m.jpg\u001b[39m\u001b[39m'\u001b[39m\u001b[39m.\u001b[39mformat(\u001b[39mstr\u001b[39m(uuid\u001b[39m.\u001b[39muuid1())))\n\u001b[0;32m     <a href='vscode-notebook-cell:/c%3A/Users/anjuv/Documents/GitHub/Sign-language-converter/main.ipynb#X52sZmlsZQ%3D%3D?line=9'>10</a>\u001b[0m     cv2\u001b[39m.\u001b[39mimwrite(image_name,frame)\n",
      "\u001b[1;31mKeyboardInterrupt\u001b[0m: "
     ]
    }
   ],
   "source": [
    "for action in actions_words[5]:\n",
    "    !mkdir {'data\\images\\\\'+actions_words[5]}\n",
    "    cap = cv2.VideoCapture(0)\n",
    "    print('Collecting images for {}'. format(actions_words[5]))\n",
    "    time.sleep(5)\n",
    "    for imgnum in range(no_sequences):\n",
    "        ret, frame = cap.read()\n",
    "        image_name = os.path.join(\n",
    "            IMAGES_PATH, actions_words[5], actions_words[5]+'.'+'{}.jpg'.format(str(uuid.uuid1())))\n",
    "        cv2.imwrite(image_name,frame)\n",
    "        cv2.imshow('Frame', frame)\n",
    "        time.sleep(2)\n",
    "        if cv2.waitKey(1) & 0xFF == ord('q'):\n",
    "            break\n",
    "    cap.release()"
   ]
  },
  {
   "cell_type": "code",
   "execution_count": null,
   "metadata": {},
   "outputs": [],
   "source": [
    "# cap = cv2.VideoCapture(0)\n",
    "\n",
    "# with mp_holistic.Holistic(min_detection_confidence=0.5, min_tracking_confidence=0.5) as holistic:\n",
    "\n",
    "#     for action in actions_numbers:\n",
    "\n",
    "#         for sequence in range(no_sequences):\n",
    "\n",
    "#             for frame_num in range(sequence_length):\n",
    "                \n",
    "#                 ret, frame = cap.read()\n",
    "\n",
    "#                 image, results = mediapipe_detection(frame, holistic)\n",
    "#                 print(results)\n",
    "\n",
    "#                 draw_style_landmarks(image, results)\n",
    "\n",
    "#                 if frame_num == 0:\n",
    "#                     cv2.putText(image, 'STARTING COLLECTION', (120,200),\n",
    "#                                     cv2.FONT_HERSHEY_SIMPLEX, 1, (0,255,0), 4, cv2.LINE_AA)\n",
    "                        \n",
    "#                     cv2.putText(image, 'COLLECTING FRAMES FOR {} VIDEO NUMBER {}'.format(action, sequence), (15,12),\n",
    "#                                     cv2.FONT_HERSHEY_SIMPLEX, 0.5, (0, 0, 255), 1 ,cv2.LINE_AA)\n",
    "\n",
    "#                     cv2.waitKey(2000)\n",
    "\n",
    "#                 else:\n",
    "#                     cv2.putText(image, 'COLLECTING FRAMES FOR {} VIDEO NUMBER {}'.format(action, sequence), (15, 12),\n",
    "#                                     cv2.FONT_HERSHEY_SIMPLEX, 0.5, (0, 0, 255), 1, cv2.LINE_AA)\n",
    "                    \n",
    "#                 keypoints = extract_keypoints(results)\n",
    "#                 npy_path = os.path.join(DATA_PATH, action, str(sequence), str(frame_num))\n",
    "#                 np.save(npy_path, keypoints)\n",
    "\n",
    "#                 cv2.imshow('Video Capture', image)\n",
    "\n",
    "#                 if cv2.waitKey(10) & 0XFF == ord('q'):\n",
    "#                     break\n",
    "# cap.release()\n",
    "# cv2.destroyAllWindows()"
   ]
  },
  {
   "cell_type": "code",
   "execution_count": null,
   "metadata": {},
   "outputs": [],
   "source": [
    "# cap = cv2.VideoCapture(0)\n",
    "\n",
    "# with mp_holistic.Holistic(min_detection_confidence=0.5, min_tracking_confidence=0.5) as holistic:\n",
    "\n",
    "#     for action in actions_letters:\n",
    "\n",
    "#         for sequence in range(no_sequences):\n",
    "\n",
    "#             for frame_num in range(sequence_length):\n",
    "\n",
    "#                 ret, frame = cap.read()\n",
    "\n",
    "#                 image, results = mediapipe_detection(frame, holistic)\n",
    "#                 print(results)\n",
    "\n",
    "#                 draw_style_landmarks(image, results)\n",
    "\n",
    "#                 if frame_num == 0:\n",
    "#                     cv2.putText(image, 'STARTING COLLECTION', (120, 200),\n",
    "#                                 cv2.FONT_HERSHEY_SIMPLEX, 1, (0, 255, 0), 4, cv2.LINE_AA)\n",
    "\n",
    "#                     cv2.putText(image, 'COLLECTING FRAMES FOR {} VIDEO NUMBER {}'.format(action, sequence), (15, 12),\n",
    "#                                 cv2.FONT_HERSHEY_SIMPLEX, 0.5, (0, 0, 255), 1, cv2.LINE_AA)\n",
    "\n",
    "#                     cv2.waitKey(2000)\n",
    "\n",
    "#                 else:\n",
    "#                     cv2.putText(image, 'COLLECTING FRAMES FOR {} VIDEO NUMBER {}'.format(action, sequence), (15, 12),\n",
    "#                                 cv2.FONT_HERSHEY_SIMPLEX, 0.5, (0, 0, 255), 1, cv2.LINE_AA)\n",
    "\n",
    "#                 keypoints = extract_keypoints(results)\n",
    "#                 npy_path = os.path.join(\n",
    "#                     DATA_PATH, action, str(sequence), str(frame_num))\n",
    "#                 np.save(npy_path, keypoints)\n",
    "\n",
    "#                 cv2.imshow('Video Capture', image)\n",
    "\n",
    "#                 if cv2.waitKey(10) & 0XFF == ord('q'):\n",
    "#                     break\n",
    "# cap.release()\n",
    "# cv2.destroyAllWindows()\n"
   ]
  },
  {
   "cell_type": "code",
   "execution_count": null,
   "metadata": {},
   "outputs": [],
   "source": [
    "# cap = cv2.VideoCapture(0)\n",
    "# with mp_holistic.Holistic(min_detection_confidence=0.5, min_tracking_confidence=0.5) as holistic:\n",
    "#     for action in actions_words:\n",
    "#         for sequence in range(no_sequences):\n",
    "#             for frame_num in range(sequence_length):\n",
    "\n",
    "#                 ret, frame = cap.read()\n",
    "\n",
    "#                 image, results = mediapipe_detection(frame, holistic)\n",
    "#                 print(results)\n",
    "\n",
    "#                 draw_style_landmarks(image, results)\n",
    "\n",
    "#                 if frame_num == 0:\n",
    "#                     cv2.putText(image, 'STARTING COLLECTION', (120, 200),\n",
    "#                                 cv2.FONT_HERSHEY_SIMPLEX, 1, (0, 255, 0), 4, cv2.LINE_AA)\n",
    "\n",
    "#                     cv2.putText(image, 'COLLECTING FRAMES FOR {} VIDEO NUMBER {}'.format(action, sequence), (15, 12),\n",
    "#                                 cv2.FONT_HERSHEY_SIMPLEX, 0.5, (0, 0, 255), 1, cv2.LINE_AA)\n",
    "\n",
    "#                     cv2.waitKey(2000)\n",
    "\n",
    "#                 else:\n",
    "#                     cv2.putText(image, 'COLLECTING FRAMES FOR {} VIDEO NUMBER {}'.format(action, sequence), (15, 12),\n",
    "#                                 cv2.FONT_HERSHEY_SIMPLEX, 0.5, (0, 0, 255), 1, cv2.LINE_AA)\n",
    "\n",
    "#                 keypoints = extract_keypoints(results)\n",
    "#                 npy_path = os.path.join(\n",
    "#                     DATA_PATH, action, str(sequence), str(frame_num))\n",
    "#                 np.save(npy_path, keypoints)\n",
    "\n",
    "#                 cv2.imshow('Video Capture', image)\n",
    "\n",
    "#                 if cv2.waitKey(10) & 0XFF == ord('q'):\n",
    "#                     break\n",
    "# cap.release()\n",
    "# cv2.destroyAllWindows()\n"
   ]
  },
  {
   "attachments": {},
   "cell_type": "markdown",
   "metadata": {},
   "source": [
    "PRE - PROCESSING"
   ]
  },
  {
   "cell_type": "code",
   "execution_count": null,
   "metadata": {},
   "outputs": [],
   "source": [
    "# from sklearn.model_selection import train_test_split\n",
    "# from tensorflow.keras.utils import to_categorical"
   ]
  },
  {
   "cell_type": "code",
   "execution_count": null,
   "metadata": {},
   "outputs": [],
   "source": [
    "label_map_numbers = {label:num for num, label in enumerate(actions_numbers)}\n",
    "label_map_letters = {label:num for num, label in enumerate(actions_letters)}\n",
    "label_map_words = {label:num for num, label in enumerate(actions_words)}"
   ]
  },
  {
   "cell_type": "code",
   "execution_count": null,
   "metadata": {},
   "outputs": [],
   "source": [
    "label_map_numbers\n",
    "label_map_letters\n",
    "label_map_words"
   ]
  },
  {
   "cell_type": "code",
   "execution_count": null,
   "metadata": {},
   "outputs": [],
   "source": [
    "sequences_numbers, labels_numbers = [], []\n",
    "for action in actions_numbers:\n",
    "    for sequence in range(no_sequences):\n",
    "        window =[]\n",
    "        for frame_num in range(sequence_length):\n",
    "            res = np.load(os.path.join(DATA_PATH, action, str(sequence), \n",
    "            \"{}.npy\".format(frame_num)))\n",
    "            window.append(res)\n",
    "        sequences_numbers.append(window)\n",
    "        labels_numbers.append(label_map_numbers[action])"
   ]
  },
  {
   "cell_type": "code",
   "execution_count": null,
   "metadata": {},
   "outputs": [],
   "source": [
    "sequences_letters, labels_letters = [], []\n",
    "for action in actions_letters:\n",
    "    for sequence in range(no_sequences):\n",
    "        window = []\n",
    "        for frame_num in range(sequence_length):\n",
    "            res = np.load(os.path.join(DATA_PATH, action, str(sequence),\n",
    "                                       \"{}.npy\".format(frame_num)))\n",
    "            window.append(res)\n",
    "        sequences_letters.append(window)\n",
    "        labels_letters.append(label_map_letters[action])\n"
   ]
  }
 ],
 "metadata": {
  "kernelspec": {
   "display_name": "Python 3",
   "language": "python",
   "name": "python3"
  },
  "language_info": {
   "codemirror_mode": {
    "name": "ipython",
    "version": 3
   },
   "file_extension": ".py",
   "mimetype": "text/x-python",
   "name": "python",
   "nbconvert_exporter": "python",
   "pygments_lexer": "ipython3",
   "version": "3.10.2"
  },
  "orig_nbformat": 4,
  "vscode": {
   "interpreter": {
    "hash": "5df8a3e33af966dc3bfa122221f0d2f1ed0c928d9f98623efc985bf05c9a044e"
   }
  }
 },
 "nbformat": 4,
 "nbformat_minor": 2
}
